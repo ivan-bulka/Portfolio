{
 "cells": [
  {
   "cell_type": "markdown",
   "metadata": {},
   "source": [
    "# Task"
   ]
  },
  {
   "cell_type": "markdown",
   "metadata": {},
   "source": [
    "Please analyze the Philippines market of cigarettes and build ML model that can forecast income from selling\n",
    "cigarettes in the Philippines in 2020."
   ]
  },
  {
   "cell_type": "markdown",
   "metadata": {},
   "source": [
    "### Requirements"
   ]
  },
  {
   "cell_type": "markdown",
   "metadata": {},
   "source": [
    "- You can use any publicly available datasets\n",
    "- Use apache spark for data processing\n",
    "- Result of work should be presented in clear form"
   ]
  },
  {
   "cell_type": "markdown",
   "metadata": {},
   "source": [
    "# 1. Data Understanding"
   ]
  },
  {
   "cell_type": "markdown",
   "metadata": {},
   "source": [
    "### 1.1. Short Data description"
   ]
  },
  {
   "cell_type": "markdown",
   "metadata": {},
   "source": [
    "There are 4 CSV files for processing\n",
    "- population-growth.csv - population growth in the Philippines \n",
    "- smoking-prevalence.csv - data where indicates the percentage of the population of the country who smoke cigarettes\n",
    "- consumption-cigarettes-per_day.csv - here are data for cigarettes consumption per day per smoker for each country\n",
    "- retail-price-for-a-pack-of-20-cigarette.xlsx - price for 1 pack of cigarettes for each country"
   ]
  },
  {
   "cell_type": "markdown",
   "metadata": {},
   "source": [
    "### 1.2. The logic for the calculation income from cigarettes selling"
   ]
  },
  {
   "cell_type": "markdown",
   "metadata": {},
   "source": [
    "I did not find the Data where indicates income per year from this calculation\n",
    "We use the next formula for income per year:\n",
    "\n",
    "Smokers (year) = Population (year) * Persevalence (year) - amount of smokers per year. Population (year) we get from population-growth.csv. Prevalence (year) gets from smoking-prevalence.csv\n",
    "    \n",
    "Income (daily) = Consumption (day) * Price / 20. Consumption (day) - indicates how many cigarettes smoke by one smoker per day. Consumption (day) we get from consumption-cigarettes-per_day.csv. Price - price for 1 pack of cigarettes (get cigarettes prices.csv). We have 20 cigarettes in one pack. \n",
    "    \n",
    "Income (year) = Smokers (year) * Income (daily) * 365 - Income from selling cigarettes per year"
   ]
  },
  {
   "cell_type": "markdown",
   "metadata": {},
   "source": [
    "# 2. Data Processing"
   ]
  },
  {
   "cell_type": "markdown",
   "metadata": {},
   "source": [
    "Data Processing will be made by Apache Spark "
   ]
  },
  {
   "cell_type": "markdown",
   "metadata": {},
   "source": [
    "### 2.1. Set up PySpark for the data processing"
   ]
  },
  {
   "cell_type": "code",
   "execution_count": 1,
   "metadata": {},
   "outputs": [],
   "source": [
    "# Import libraries\n",
    "import findspark\n",
    "findspark.init()\n",
    "import pyspark\n",
    "\n",
    "# Set up Context and Session\n",
    "from pyspark import SparkConf, SparkContext\n",
    "from pyspark.sql import SparkSession\n",
    "from pyspark.sql import *\n",
    "from pyspark.sql.types import *\n",
    "conf = SparkConf().setMaster(\"local\").setAppName(\"CigarettesPhilippinesIncome\")\n",
    "sc = SparkContext(conf = conf)\n",
    "spark = SparkSession \\\n",
    "    .builder \\\n",
    "    .appName(\"CigarettesPhilippinesIncome\") \\\n",
    "    .config(\"spark.some.config.option\", \"some-value\") \\\n",
    "    .getOrCreate()"
   ]
  },
  {
   "cell_type": "markdown",
   "metadata": {},
   "source": [
    "### 2.2. Read and merge data from files"
   ]
  },
  {
   "cell_type": "markdown",
   "metadata": {},
   "source": [
    "##### 2.2.1.Population in Philippines"
   ]
  },
  {
   "cell_type": "code",
   "execution_count": 2,
   "metadata": {},
   "outputs": [
    {
     "name": "stdout",
     "output_type": "stream",
     "text": [
      "+----+---------------+-----------+-------------+----------+-------------------+----------+\n",
      "|Year|TotalPopulation|PercentMale|PercentFemale|PopDensity|TotalPopulationRank|GrowthRate|\n",
      "+----+---------------+-----------+-------------+----------+-------------------+----------+\n",
      "|2019|    108116.6150|     0.5024|       0.4976|    315.80|                 13|    0.0137|\n",
      "|2018|    106651.3940|     0.5026|       0.4974|    311.52|                 13|    0.0141|\n",
      "|2017|    105172.9250|     0.5028|       0.4972|    307.21|                 13|    0.0146|\n",
      "|2016|    103663.8160|     0.5030|       0.4970|    302.80|                 12|    0.0152|\n",
      "|2015|    102113.2120|     0.5033|       0.4967|    298.27|                 12|    0.0168|\n",
      "+----+---------------+-----------+-------------+----------+-------------------+----------+\n",
      "only showing top 5 rows\n",
      "\n"
     ]
    }
   ],
   "source": [
    "# Read data from csv file\n",
    "population = spark.read.csv(\"Data_Files/population-growth.csv\", header=True)\n",
    "population.show(5)"
   ]
  },
  {
   "cell_type": "code",
   "execution_count": 3,
   "metadata": {},
   "outputs": [
    {
     "name": "stdout",
     "output_type": "stream",
     "text": [
      "+----+---------------+\n",
      "|Year|TotalPopulation|\n",
      "+----+---------------+\n",
      "|2019|    108116.6150|\n",
      "|2018|    106651.3940|\n",
      "|2017|    105172.9250|\n",
      "|2016|    103663.8160|\n",
      "|2015|    102113.2120|\n",
      "+----+---------------+\n",
      "only showing top 5 rows\n",
      "\n"
     ]
    }
   ],
   "source": [
    "# We need only data in columns Year and TotalPopulation. Create DataFrame with needed columns\n",
    "population = population.select(population['Year'], population['TotalPopulation'])\n",
    "population.show(5)"
   ]
  },
  {
   "cell_type": "markdown",
   "metadata": {},
   "source": [
    "##### 2.2.2. Smoking Perseverance"
   ]
  },
  {
   "cell_type": "code",
   "execution_count": 4,
   "metadata": {},
   "outputs": [
    {
     "name": "stdout",
     "output_type": "stream",
     "text": [
      "+-------+----+----+--------------------------------------------------+\n",
      "| Entity|Code|Year|Smoking prevalence, total (ages 15+) (% of adults)|\n",
      "+-------+----+----+--------------------------------------------------+\n",
      "|Albania| ALB|2000|                                              34.8|\n",
      "|Albania| ALB|2005|                                              32.7|\n",
      "|Albania| ALB|2010|                                              31.2|\n",
      "|Albania| ALB|2011|                                              30.7|\n",
      "|Albania| ALB|2012|                                              30.2|\n",
      "+-------+----+----+--------------------------------------------------+\n",
      "only showing top 5 rows\n",
      "\n"
     ]
    }
   ],
   "source": [
    "# Read Data\n",
    "perseverance = spark.read.csv(\"Data_Files/smoking-prevalence.csv\", header=True)\n",
    "perseverance.show(5)"
   ]
  },
  {
   "cell_type": "code",
   "execution_count": 5,
   "metadata": {},
   "outputs": [
    {
     "name": "stdout",
     "output_type": "stream",
     "text": [
      "+----+--------------------------------------------------+\n",
      "|Year|Smoking prevalence, total (ages 15+) (% of adults)|\n",
      "+----+--------------------------------------------------+\n",
      "|2000|                                              34.4|\n",
      "|2005|                                              30.6|\n",
      "|2010|                                              27.6|\n",
      "|2011|                                                27|\n",
      "|2012|                                              26.5|\n",
      "+----+--------------------------------------------------+\n",
      "only showing top 5 rows\n",
      "\n"
     ]
    }
   ],
   "source": [
    "# Filter Data by the Philippines\n",
    "persevelance = perseverance.select(perseverance['Year'], \n",
    "                                   perseverance['Smoking prevalence, total (ages 15+) (% of adults)'])\\\n",
    ".filter(perseverance['Entity'] == 'Philippines')\n",
    "persevelance.show(5)"
   ]
  },
  {
   "cell_type": "markdown",
   "metadata": {},
   "source": [
    "##### 2.2.3. Merge population and perseverance sets"
   ]
  },
  {
   "cell_type": "code",
   "execution_count": 6,
   "metadata": {},
   "outputs": [
    {
     "name": "stdout",
     "output_type": "stream",
     "text": [
      "+----+---------------+--------------------------------------------------+\n",
      "|Year|TotalPopulation|Smoking prevalence, total (ages 15+) (% of adults)|\n",
      "+----+---------------+--------------------------------------------------+\n",
      "|2016|    103663.8160|                                              24.3|\n",
      "|2012|           null|                                              26.5|\n",
      "|2019|    108116.6150|                                              null|\n",
      "|2017|    105172.9250|                                              null|\n",
      "|2014|           null|                                              25.3|\n",
      "+----+---------------+--------------------------------------------------+\n",
      "only showing top 5 rows\n",
      "\n"
     ]
    }
   ],
   "source": [
    "# Use outer join\n",
    "smokers = population.join(persevelance, 'Year', \"outer\")\n",
    "smokers.show(5)"
   ]
  },
  {
   "cell_type": "markdown",
   "metadata": {},
   "source": [
    "We see that some values are NULL, but we will work with it below"
   ]
  },
  {
   "cell_type": "code",
   "execution_count": 7,
   "metadata": {},
   "outputs": [
    {
     "name": "stdout",
     "output_type": "stream",
     "text": [
      "root\n",
      " |-- Year: string (nullable = true)\n",
      " |-- TotalPopulation: string (nullable = true)\n",
      " |-- Smoking prevalence, total (ages 15+) (% of adults): string (nullable = true)\n",
      "\n"
     ]
    }
   ],
   "source": [
    "# Change name for the column Smoking prevalence, total (ages 15+) (% of adults)\n",
    "# Print Schema\n",
    "smokers.printSchema()"
   ]
  },
  {
   "cell_type": "code",
   "execution_count": 8,
   "metadata": {},
   "outputs": [
    {
     "name": "stdout",
     "output_type": "stream",
     "text": [
      "+----+---------------+----------+\n",
      "|Year|TotalPopulation|Prevelence|\n",
      "+----+---------------+----------+\n",
      "|2016|    103663.8160|      24.3|\n",
      "|2012|           null|      26.5|\n",
      "|2019|    108116.6150|      null|\n",
      "|2017|    105172.9250|      null|\n",
      "|2014|           null|      25.3|\n",
      "+----+---------------+----------+\n",
      "only showing top 5 rows\n",
      "\n"
     ]
    }
   ],
   "source": [
    "# Rename column\n",
    "smokers = smokers.withColumnRenamed('Smoking prevalence, total (ages 15+) (% of adults)', 'Prevelence')\n",
    "smokers.show(5)"
   ]
  },
  {
   "cell_type": "markdown",
   "metadata": {},
   "source": [
    "##### 2.2.4. Read data about cigarettes consumptions"
   ]
  },
  {
   "cell_type": "code",
   "execution_count": 9,
   "metadata": {},
   "outputs": [
    {
     "name": "stdout",
     "output_type": "stream",
     "text": [
      "+-----------+----+----+-----------------------------------------------------+\n",
      "|     Entity|Code|Year|Cigarette consumption per smoker per day (cigarettes)|\n",
      "+-----------+----+----+-----------------------------------------------------+\n",
      "|Afghanistan| AFG|1980|                                            5.6999998|\n",
      "|Afghanistan| AFG|1981|                                            5.8000002|\n",
      "|Afghanistan| AFG|1982|                                            5.8000002|\n",
      "|Afghanistan| AFG|1983|                                            5.9000001|\n",
      "|Afghanistan| AFG|1984|                                                    6|\n",
      "+-----------+----+----+-----------------------------------------------------+\n",
      "only showing top 5 rows\n",
      "\n"
     ]
    }
   ],
   "source": [
    "# Read data from CSV \n",
    "consumptions = spark.read.csv('Data_Files/consumption-cigarettes-per_day.csv', header=True)\n",
    "consumptions.show(5)"
   ]
  },
  {
   "cell_type": "code",
   "execution_count": 10,
   "metadata": {},
   "outputs": [
    {
     "name": "stdout",
     "output_type": "stream",
     "text": [
      "+----+-----------------------------------------------------+\n",
      "|Year|Cigarette consumption per smoker per day (cigarettes)|\n",
      "+----+-----------------------------------------------------+\n",
      "|1980|                                                 18.5|\n",
      "|1981|                                                 18.4|\n",
      "|1982|                                            18.200001|\n",
      "|1983|                                                 18.1|\n",
      "|1984|                                                   18|\n",
      "+----+-----------------------------------------------------+\n",
      "only showing top 5 rows\n",
      "\n"
     ]
    }
   ],
   "source": [
    "# Select only data ralated to Philippines \n",
    "consumptions = consumptions.select(consumptions['Year'], \n",
    "                                   consumptions['Cigarette consumption per smoker per day (cigarettes)']).\\\n",
    "filter(consumptions['Entity'] == 'Philippines')\n",
    "consumptions.show(5)"
   ]
  },
  {
   "cell_type": "code",
   "execution_count": 11,
   "metadata": {},
   "outputs": [
    {
     "name": "stdout",
     "output_type": "stream",
     "text": [
      "+----+-----------+\n",
      "|Year|Consumption|\n",
      "+----+-----------+\n",
      "|1980|       18.5|\n",
      "|1981|       18.4|\n",
      "|1982|  18.200001|\n",
      "|1983|       18.1|\n",
      "|1984|         18|\n",
      "+----+-----------+\n",
      "only showing top 5 rows\n",
      "\n"
     ]
    }
   ],
   "source": [
    "# Change column name for Cigarette consumption per smoker per day (cigarettes)\n",
    "consumptions = consumptions.withColumnRenamed('Cigarette consumption per smoker per day (cigarettes)', 'Consumption')\n",
    "consumptions.show(5)"
   ]
  },
  {
   "cell_type": "markdown",
   "metadata": {},
   "source": [
    "##### 2.2.5. Merge Consumption and main DataFrame"
   ]
  },
  {
   "cell_type": "code",
   "execution_count": 12,
   "metadata": {},
   "outputs": [
    {
     "name": "stdout",
     "output_type": "stream",
     "text": [
      "+----+---------------+----------+-----------+\n",
      "|Year|TotalPopulation|Prevelence|Consumption|\n",
      "+----+---------------+----------+-----------+\n",
      "|1987|           null|      null|  17.799999|\n",
      "|2016|    103663.8160|      24.3|       null|\n",
      "|2012|           null|      26.5|       21.4|\n",
      "|1988|           null|      null|  17.700001|\n",
      "|2019|    108116.6150|      null|       null|\n",
      "+----+---------------+----------+-----------+\n",
      "only showing top 5 rows\n",
      "\n"
     ]
    }
   ],
   "source": [
    "smokers = smokers.join(consumptions, 'Year', \"outer\")\n",
    "smokers.show(5)"
   ]
  },
  {
   "cell_type": "markdown",
   "metadata": {},
   "source": [
    "##### 2.2.6. Read Cigarettes prices data"
   ]
  },
  {
   "cell_type": "code",
   "execution_count": 13,
   "metadata": {},
   "outputs": [
    {
     "name": "stdout",
     "output_type": "stream",
     "text": [
      "+-----------+----+-------------------------------------------------+----------------------------------------------------------+--------------------------------------------------------------+-----------------------------------------------------------------------+-----------------------------+--------------------------------------+---------------------------------------------------+------------------------------------------------------------+\n",
      "|    Country|Year|Most sold brand of cigarettes - currency reported|Most sold brand of cigarettes - price in currency reported|Most sold brand of cigarettes - price in international dollars|Most sold brand of cigarettes - price in US$ at official exchange rates|Average -  cigarette currency|Average -  cigarette price in currency|Average -  cigarette price in international dollars|Average -  cigarette price in US$ at official exchange rates|\n",
      "+-----------+----+-------------------------------------------------+----------------------------------------------------------+--------------------------------------------------------------+-----------------------------------------------------------------------+-----------------------------+--------------------------------------+---------------------------------------------------+------------------------------------------------------------+\n",
      "|Afghanistan|2014|                                              AFN|                                                     20.00|                                                          0.59|                                                                   0.35|                Not available|                         Not available|                                      Not available|                                               Not available|\n",
      "|Afghanistan|2012|                                              AFN|                                                     15.00|                                                          0.50|                                                                   0.29|                Not available|                         Not available|                                      Not available|                                               Not available|\n",
      "|Afghanistan|2010|                                              AFN|                                                     10.00|                                                          0.38|                                                                   0.22|               Not applicable|                        Not applicable|                                     Not applicable|                                              Not applicable|\n",
      "|Afghanistan|2008|                                              AFN|                                                      8.50|                                                          0.31|                                                                   0.17|               Not applicable|                        Not applicable|                                     Not applicable|                                              Not applicable|\n",
      "|    Albania|2014|                                              ALL|                                                    200.00|                                                          3.87|                                                                   1.93|                Not available|                         Not available|                                      Not available|                                               Not available|\n",
      "+-----------+----+-------------------------------------------------+----------------------------------------------------------+--------------------------------------------------------------+-----------------------------------------------------------------------+-----------------------------+--------------------------------------+---------------------------------------------------+------------------------------------------------------------+\n",
      "only showing top 5 rows\n",
      "\n"
     ]
    }
   ],
   "source": [
    "prices = spark.read.csv(\"Data_Files/cigarettes prices.csv\", header=True)\n",
    "prices.show(5)"
   ]
  },
  {
   "cell_type": "code",
   "execution_count": 14,
   "metadata": {},
   "outputs": [
    {
     "name": "stdout",
     "output_type": "stream",
     "text": [
      "+----+------------------+--------------+\n",
      "|Year|MostSoldBrandPrice|  AveragePrice|\n",
      "+----+------------------+--------------+\n",
      "|2014|             01.03|          1.86|\n",
      "|2012|              0.59|          1.23|\n",
      "|2010|              0.57|Not applicable|\n",
      "|2008|              0.52|Not applicable|\n",
      "+----+------------------+--------------+\n",
      "\n"
     ]
    }
   ],
   "source": [
    "# Select needed columns for Philippines and rename them\n",
    "prices = prices.select(prices['Year'], \n",
    "                       prices['Most sold brand of cigarettes - price in international dollars'] , \n",
    "                       prices['Average -  cigarette price in international dollars']).\\\n",
    "filter(prices['Country'] == 'Philippines')\n",
    "prices = prices.withColumnRenamed(\"Most sold brand of cigarettes - price in international dollars\", \"MostSoldBrandPrice\").\\\n",
    "withColumnRenamed(\"Average -  cigarette price in international dollars\", \"AveragePrice\")\n",
    "prices\n",
    "prices.show(12)"
   ]
  },
  {
   "cell_type": "markdown",
   "metadata": {},
   "source": [
    "The main issue in this dataset is that we have only 2 values for the column AveragePrice. Data from column AveragePrice are the most relevant to calculate the income from all data in the file cigarettes prices.csv\n",
    "\n",
    "Was found additional data for the Most Sold Brand price. We can define some correlation between MostSoldBrandPrice and AveragePrice"
   ]
  },
  {
   "cell_type": "code",
   "execution_count": 15,
   "metadata": {},
   "outputs": [
    {
     "name": "stdout",
     "output_type": "stream",
     "text": [
      "+----+------------+\n",
      "|Year|Price in USD|\n",
      "+----+------------+\n",
      "|2008|        0.73|\n",
      "|2010|         0.8|\n",
      "|2012|        0.84|\n",
      "|2014|        1.47|\n",
      "|2016|        2.26|\n",
      "|2018|        3.14|\n",
      "+----+------------+\n",
      "\n"
     ]
    }
   ],
   "source": [
    "most_sold = spark.read.csv(\"Data_Files/Yearly-most-popular-price.csv\", header=True)\n",
    "most_sold.show()"
   ]
  },
  {
   "cell_type": "code",
   "execution_count": 16,
   "metadata": {},
   "outputs": [
    {
     "name": "stdout",
     "output_type": "stream",
     "text": [
      "+----+------------------+--------------+------------+\n",
      "|Year|MostSoldBrandPrice|  AveragePrice|Price in USD|\n",
      "+----+------------------+--------------+------------+\n",
      "|2008|              0.52|Not applicable|        0.73|\n",
      "|2010|              0.57|Not applicable|         0.8|\n",
      "|2012|              0.59|          1.23|        0.84|\n",
      "|2014|             01.03|          1.86|        1.47|\n",
      "|2016|              null|          null|        2.26|\n",
      "|2018|              null|          null|        3.14|\n",
      "+----+------------------+--------------+------------+\n",
      "\n"
     ]
    }
   ],
   "source": [
    "# Merge DataFrames related to the price\n",
    "prices = prices.join(most_sold, 'Year', \"outer\").orderBy('Year')\n",
    "prices.show()"
   ]
  },
  {
   "cell_type": "markdown",
   "metadata": {},
   "source": [
    "We see that data correlates. It means that if MostSoldBrandPrice price growth, than AveragePrice growth too. Those data will be needed to fill on Nan values for AveragePrice in the model "
   ]
  },
  {
   "cell_type": "code",
   "execution_count": 17,
   "metadata": {},
   "outputs": [
    {
     "name": "stdout",
     "output_type": "stream",
     "text": [
      "+----+--------------+\n",
      "|Year|  AveragePrice|\n",
      "+----+--------------+\n",
      "|2008|Not applicable|\n",
      "|2010|Not applicable|\n",
      "|2012|          1.23|\n",
      "|2014|          1.86|\n",
      "|2016|          null|\n",
      "|2018|          null|\n",
      "+----+--------------+\n",
      "\n"
     ]
    }
   ],
   "source": [
    "# Create DataDrame that costist only Year and AveragePrice\n",
    "# Create temporary view\n",
    "prices.createGlobalTempView(\"prices\")\n",
    "av_price = spark.sql(\"SELECT Year, AveragePrice  FROM global_temp.prices\")\n",
    "av_price.show()"
   ]
  },
  {
   "cell_type": "markdown",
   "metadata": {},
   "source": [
    "##### 2.2.7. Final merge between main DataFrame and Average Price Dataframe"
   ]
  },
  {
   "cell_type": "code",
   "execution_count": 18,
   "metadata": {},
   "outputs": [],
   "source": [
    "all_data = smokers.join(av_price, 'Year', \"outer\").orderBy('Year')"
   ]
  },
  {
   "cell_type": "code",
   "execution_count": 19,
   "metadata": {},
   "outputs": [
    {
     "name": "stdout",
     "output_type": "stream",
     "text": [
      "+----+---------------+----------+-----------+--------------+\n",
      "|Year|TotalPopulation|Prevelence|Consumption|  AveragePrice|\n",
      "+----+---------------+----------+-----------+--------------+\n",
      "|1950|     18580.4900|      null|       null|          null|\n",
      "|1955|     22177.0580|      null|       null|          null|\n",
      "|1960|     26269.7340|      null|       null|          null|\n",
      "|1965|     30909.9880|      null|       null|          null|\n",
      "|1970|     35803.5940|      null|       null|          null|\n",
      "|1975|     41285.7420|      null|       null|          null|\n",
      "|1980|     47357.7430|      null|       18.5|          null|\n",
      "|1981|           null|      null|       18.4|          null|\n",
      "|1982|           null|      null|  18.200001|          null|\n",
      "|1983|           null|      null|       18.1|          null|\n",
      "|1984|           null|      null|         18|          null|\n",
      "|1985|     54275.8220|      null|         18|          null|\n",
      "|1986|           null|      null|       17.9|          null|\n",
      "|1987|           null|      null|  17.799999|          null|\n",
      "|1988|           null|      null|  17.700001|          null|\n",
      "|1989|           null|      null|       17.5|          null|\n",
      "|1990|     61895.1600|      null|  17.299999|          null|\n",
      "|1991|           null|      null|       17.1|          null|\n",
      "|1992|           null|      null|       16.9|          null|\n",
      "|1993|           null|      null|  16.799999|          null|\n",
      "|1994|           null|      null|       16.6|          null|\n",
      "|1995|     69784.0880|      null|       16.5|          null|\n",
      "|1996|           null|      null|       16.4|          null|\n",
      "|1997|           null|      null|       16.4|          null|\n",
      "|1998|           null|      null|       16.6|          null|\n",
      "|1999|           null|      null|         17|          null|\n",
      "|2000|     77991.7550|      34.4|       17.4|          null|\n",
      "|2001|           null|      null|       17.9|          null|\n",
      "|2002|           null|      null|       18.4|          null|\n",
      "|2003|           null|      null|         19|          null|\n",
      "|2004|           null|      null|       19.5|          null|\n",
      "|2005|     86326.2500|      30.6|         20|          null|\n",
      "|2006|           null|      null|       20.4|          null|\n",
      "|2007|           null|      null|  20.799999|          null|\n",
      "|2008|           null|      null|  21.200001|Not applicable|\n",
      "|2009|           null|      null|       21.5|          null|\n",
      "|2010|     93966.7800|      27.6|       21.6|Not applicable|\n",
      "|2011|           null|        27|       21.5|          null|\n",
      "|2012|           null|      26.5|       21.4|          1.23|\n",
      "|2013|           null|      25.9|       null|          null|\n",
      "|2014|           null|      25.3|       null|          1.86|\n",
      "|2015|    102113.2120|      24.7|       null|          null|\n",
      "|2016|    103663.8160|      24.3|       null|          null|\n",
      "|2017|    105172.9250|      null|       null|          null|\n",
      "|2018|    106651.3940|      null|       null|          null|\n",
      "|2019|    108116.6150|      null|       null|          null|\n",
      "+----+---------------+----------+-----------+--------------+\n",
      "\n"
     ]
    }
   ],
   "source": [
    "all_data.show(50)"
   ]
  },
  {
   "cell_type": "markdown",
   "metadata": {},
   "source": [
    "### 2.3. Data preparation for algorithms"
   ]
  },
  {
   "cell_type": "markdown",
   "metadata": {},
   "source": [
    "There are lots of empty values. Those values should be interpolated. \n",
    "Also, data that tells about cigarette prices exist from the 2008 year.\n",
    "It means that for the interpretation we can use all historical data, but as an input for the algorithm, we can use data from 2008 and later"
   ]
  },
  {
   "cell_type": "markdown",
   "metadata": {},
   "source": [
    "Logit for interpolation is the next:\n",
    "- We have the step in one year\n",
    "- If the data has a linear relationship or similar to it, we define the step of growing / falling and apply it to all missed data. linear relationship can be used for TotalPopulation\n",
    "- If values in some range do not changes, we use mean values with some. That rule applies for Prevalence and Consumption data\n",
    "- If it's impossible to define relation because of a lack of data, we use correlated data. That method uses for AveragePrice"
   ]
  },
  {
   "cell_type": "markdown",
   "metadata": {},
   "source": [
    "Applyind described above, we have the final dataset "
   ]
  },
  {
   "cell_type": "code",
   "execution_count": 20,
   "metadata": {},
   "outputs": [],
   "source": [
    "temp = Row(\"Year\", \"Population\", \"Consumption\", \"Prevelance\", \"AveragePrice\")\n",
    "temp1 = temp('2008', 90910000, 21.2, 26.4, 1.07)\n",
    "temp2 = temp('2009', 92438000, 21.5, 27.0, 1.12)\n",
    "temp3 = temp('2010', 93966000, 21.5, 27.6, 1.17)\n",
    "temp4 = temp('2011', 95595000, 21.4, 27.0, 1.2)\n",
    "temp5 = temp('2012', 97224000, 21.4, 26.5, 1.23)\n",
    "temp6 = temp('2013', 98954000, 21.6, 25.9, 1.55)\n",
    "temp7 = temp('2014', 100483000, 21.5, 25.3, 1.86)\n",
    "temp8 = temp('2015', 102113000, 21.3, 24.7, 2.355)\n",
    "temp9 = temp('2016', 103663816, 21.4, 24.3, 2.85)\n",
    "temp10 = temp('2017', 105172925, 21.3, 23.9, 3.4)\n",
    "temp11 = temp('2018', 106651394, 21.5, 23.4, 3.95)\n",
    "schema = StructType([StructField(\"Year\", StringType(), True),\n",
    "                     StructField(\"Population\", IntegerType(), True),\n",
    "                    StructField(\"Consumption\", FloatType(), True),\n",
    "                     StructField(\"Persevelance\", FloatType(), True),\n",
    "                   StructField(\"AveragePrice\", FloatType(), True)])\n",
    "data = spark.createDataFrame([temp1, temp2, temp3, temp4, temp5, temp6, temp7, temp8, temp9, temp10, temp11], schema)"
   ]
  },
  {
   "cell_type": "code",
   "execution_count": 21,
   "metadata": {},
   "outputs": [
    {
     "name": "stdout",
     "output_type": "stream",
     "text": [
      "+----+----------+-----------+------------+------------+\n",
      "|Year|Population|Consumption|Persevelance|AveragePrice|\n",
      "+----+----------+-----------+------------+------------+\n",
      "|2008|  90910000|       21.2|        26.4|        1.07|\n",
      "|2009|  92438000|       21.5|        27.0|        1.12|\n",
      "|2010|  93966000|       21.5|        27.6|        1.17|\n",
      "|2011|  95595000|       21.4|        27.0|         1.2|\n",
      "|2012|  97224000|       21.4|        26.5|        1.23|\n",
      "|2013|  98954000|       21.6|        25.9|        1.55|\n",
      "|2014| 100483000|       21.5|        25.3|        1.86|\n",
      "|2015| 102113000|       21.3|        24.7|       2.355|\n",
      "|2016| 103663816|       21.4|        24.3|        2.85|\n",
      "|2017| 105172925|       21.3|        23.9|         3.4|\n",
      "|2018| 106651394|       21.5|        23.4|        3.95|\n",
      "+----+----------+-----------+------------+------------+\n",
      "\n"
     ]
    }
   ],
   "source": [
    "data.show()"
   ]
  },
  {
   "cell_type": "code",
   "execution_count": 22,
   "metadata": {},
   "outputs": [],
   "source": [
    "# Save data to csv file\n",
    "data.write.format(\"csv\").save('Data_Files/CSV')"
   ]
  },
  {
   "cell_type": "markdown",
   "metadata": {},
   "source": [
    "As an output, we have CSV file that can be used by ML algorithms for training models"
   ]
  }
 ],
 "metadata": {
  "kernelspec": {
   "display_name": "Python 3",
   "language": "python",
   "name": "python3"
  },
  "language_info": {
   "codemirror_mode": {
    "name": "ipython",
    "version": 3
   },
   "file_extension": ".py",
   "mimetype": "text/x-python",
   "name": "python",
   "nbconvert_exporter": "python",
   "pygments_lexer": "ipython3",
   "version": "3.7.3"
  }
 },
 "nbformat": 4,
 "nbformat_minor": 2
}
