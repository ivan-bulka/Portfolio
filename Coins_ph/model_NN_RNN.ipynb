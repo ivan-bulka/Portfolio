{
 "cells": [
  {
   "cell_type": "markdown",
   "metadata": {},
   "source": [
    "In this section, we try to use Neural networks for the prediction Time Series.\n",
    "We start from a simple Neural Network and improve it to get the best result."
   ]
  },
  {
   "cell_type": "markdown",
   "metadata": {},
   "source": [
    "# 1. Import Needed Libraries"
   ]
  },
  {
   "cell_type": "code",
   "execution_count": 1,
   "metadata": {},
   "outputs": [
    {
     "name": "stderr",
     "output_type": "stream",
     "text": [
      "WARNING: Logging before flag parsing goes to stderr.\n",
      "W1005 14:00:17.746726  1840 __init__.py:690] \n",
      "\n",
      "  TensorFlow's `tf-nightly` package will soon be updated to TensorFlow 2.0.\n",
      "\n",
      "  Please upgrade your code to TensorFlow 2.0:\n",
      "    * https://www.tensorflow.org/beta/guide/migration_guide\n",
      "\n",
      "  Or install the latest stable TensorFlow 1.X release:\n",
      "    * `pip install -U \"tensorflow==1.*\"`\n",
      "\n",
      "  Otherwise your code may be broken by the change.\n",
      "\n",
      "  \n"
     ]
    }
   ],
   "source": [
    "import numpy as np\n",
    "import pandas as pd\n",
    "import matplotlib.pyplot as plt\n",
    "\n",
    "# Importing Tensorflow and Keras\n",
    "import tensorflow.compat.v2 as tf\n",
    "tf.enable_v2_behavior()\n",
    "keras = tf.keras\n",
    "\n",
    "import warnings\n",
    "warnings.filterwarnings(\"ignore\")"
   ]
  },
  {
   "cell_type": "markdown",
   "metadata": {},
   "source": [
    "# 2. Read data"
   ]
  },
  {
   "cell_type": "code",
   "execution_count": 2,
   "metadata": {},
   "outputs": [
    {
     "data": {
      "text/html": [
       "<div>\n",
       "<style scoped>\n",
       "    .dataframe tbody tr th:only-of-type {\n",
       "        vertical-align: middle;\n",
       "    }\n",
       "\n",
       "    .dataframe tbody tr th {\n",
       "        vertical-align: top;\n",
       "    }\n",
       "\n",
       "    .dataframe thead th {\n",
       "        text-align: right;\n",
       "    }\n",
       "</style>\n",
       "<table border=\"1\" class=\"dataframe\">\n",
       "  <thead>\n",
       "    <tr style=\"text-align: right;\">\n",
       "      <th></th>\n",
       "      <th>Date</th>\n",
       "      <th>Population</th>\n",
       "      <th>Consumption</th>\n",
       "      <th>Persevelance</th>\n",
       "      <th>AveragePrice</th>\n",
       "      <th>Income</th>\n",
       "    </tr>\n",
       "  </thead>\n",
       "  <tbody>\n",
       "    <tr>\n",
       "      <th>0</th>\n",
       "      <td>2008</td>\n",
       "      <td>90910000</td>\n",
       "      <td>21.2</td>\n",
       "      <td>26.4</td>\n",
       "      <td>1.07</td>\n",
       "      <td>993.569136</td>\n",
       "    </tr>\n",
       "    <tr>\n",
       "      <th>1</th>\n",
       "      <td>2009</td>\n",
       "      <td>92438000</td>\n",
       "      <td>21.5</td>\n",
       "      <td>27.0</td>\n",
       "      <td>1.12</td>\n",
       "      <td>1096.815694</td>\n",
       "    </tr>\n",
       "    <tr>\n",
       "      <th>2</th>\n",
       "      <td>2010</td>\n",
       "      <td>93966000</td>\n",
       "      <td>21.5</td>\n",
       "      <td>27.6</td>\n",
       "      <td>1.17</td>\n",
       "      <td>1190.603110</td>\n",
       "    </tr>\n",
       "    <tr>\n",
       "      <th>3</th>\n",
       "      <td>2011</td>\n",
       "      <td>95595000</td>\n",
       "      <td>21.4</td>\n",
       "      <td>27.0</td>\n",
       "      <td>1.20</td>\n",
       "      <td>1209.641923</td>\n",
       "    </tr>\n",
       "    <tr>\n",
       "      <th>4</th>\n",
       "      <td>2012</td>\n",
       "      <td>97224000</td>\n",
       "      <td>21.4</td>\n",
       "      <td>26.5</td>\n",
       "      <td>1.23</td>\n",
       "      <td>1237.659308</td>\n",
       "    </tr>\n",
       "  </tbody>\n",
       "</table>\n",
       "</div>"
      ],
      "text/plain": [
       "   Date  Population  Consumption  Persevelance  AveragePrice       Income\n",
       "0  2008    90910000         21.2          26.4          1.07   993.569136\n",
       "1  2009    92438000         21.5          27.0          1.12  1096.815694\n",
       "2  2010    93966000         21.5          27.6          1.17  1190.603110\n",
       "3  2011    95595000         21.4          27.0          1.20  1209.641923\n",
       "4  2012    97224000         21.4          26.5          1.23  1237.659308"
      ]
     },
     "execution_count": 2,
     "metadata": {},
     "output_type": "execute_result"
    }
   ],
   "source": [
    "data = pd.read_csv('Data_files/CSV/part-00000-4f161bf8-72b5-4963-84c9-7d9d786286f7-c000.csv', \n",
    "                   names = ['Date','Population', 'Consumption', 'Persevelance', 'AveragePrice'])\n",
    "data.sort_index(inplace=True) \n",
    "data['Income'] = data['Population'].astype(float) * data['Consumption'].astype(float) *\\\n",
    "data['Persevelance'].astype(float) * data['AveragePrice'].astype(float)/20*365/10**9\n",
    "data.head()"
   ]
  },
  {
   "cell_type": "code",
   "execution_count": 3,
   "metadata": {},
   "outputs": [],
   "source": [
    "ts = data['Income'].astype(float)\n",
    "time = data['Date']"
   ]
  },
  {
   "cell_type": "code",
   "execution_count": 4,
   "metadata": {},
   "outputs": [],
   "source": [
    "# Splitting data on test and train\n",
    "split_time = 7\n",
    "time_train = time[:split_time]\n",
    "x_train = ts[:split_time]\n",
    "time_valid = time[split_time:]\n",
    "x_valid = ts[split_time:]"
   ]
  },
  {
   "cell_type": "markdown",
   "metadata": {},
   "source": [
    "# 3. First Model with 1 Dense Layer"
   ]
  },
  {
   "cell_type": "code",
   "execution_count": 5,
   "metadata": {},
   "outputs": [],
   "source": [
    "# Function to put windows as an input for the algorithm\n",
    "def window_dataset(series, window_size, batch_size=5,\n",
    "                   shuffle_buffer=1000):\n",
    "    dataset = tf.data.Dataset.from_tensor_slices(series)\n",
    "    dataset = dataset.window(window_size + 1, shift=1, drop_remainder=True)\n",
    "    dataset = dataset.flat_map(lambda window: window.batch(window_size + 1))\n",
    "    dataset = dataset.shuffle(shuffle_buffer)\n",
    "    dataset = dataset.map(lambda window: (window[:-1], window[-1]))\n",
    "    dataset = dataset.batch(batch_size).prefetch(1)\n",
    "    return dataset"
   ]
  },
  {
   "cell_type": "code",
   "execution_count": 6,
   "metadata": {},
   "outputs": [],
   "source": [
    "# Clear Session and set up Random seed\n",
    "keras.backend.clear_session()\n",
    "tf.random.set_seed(42)\n",
    "np.random.seed(42)"
   ]
  },
  {
   "cell_type": "code",
   "execution_count": 7,
   "metadata": {},
   "outputs": [
    {
     "name": "stderr",
     "output_type": "stream",
     "text": [
      "W1005 14:00:19.567238  1840 deprecation.py:323] From C:\\Users\\ivan1\\Anaconda3\\lib\\site-packages\\tensorflow_core\\python\\data\\util\\random_seed.py:58: where (from tensorflow.python.ops.array_ops) is deprecated and will be removed in a future version.\n",
      "Instructions for updating:\n",
      "Use tf.where in 2.0, which has the same broadcast rule as np.where\n"
     ]
    },
    {
     "name": "stdout",
     "output_type": "stream",
     "text": [
      "Epoch 1/100\n",
      "1/1 [==============================] - 1s 729ms/step - loss: 177.0335 - mae: 177.5335 - val_loss: 0.0000e+00 - val_mae: 0.0000e+00\n",
      "Epoch 2/100\n",
      "1/1 [==============================] - 0s 87ms/step - loss: 166.5263 - mae: 167.0263 - val_loss: 617.0938 - val_mae: 617.5938\n",
      "Epoch 3/100\n",
      "1/1 [==============================] - 0s 88ms/step - loss: 154.6120 - mae: 155.1120 - val_loss: 532.0833 - val_mae: 532.5833\n",
      "Epoch 4/100\n",
      "1/1 [==============================] - 0s 102ms/step - loss: 146.5560 - mae: 147.0560 - val_loss: 440.4863 - val_mae: 440.9863\n",
      "Epoch 5/100\n",
      "1/1 [==============================] - 0s 87ms/step - loss: 137.8732 - mae: 138.3732 - val_loss: 342.9617 - val_mae: 343.4617\n",
      "Epoch 6/100\n",
      "1/1 [==============================] - 0s 85ms/step - loss: 141.4506 - mae: 141.9506 - val_loss: 263.6997 - val_mae: 264.1997\n",
      "Epoch 7/100\n",
      "1/1 [==============================] - 0s 93ms/step - loss: 145.6667 - mae: 146.1667 - val_loss: 200.8745 - val_mae: 201.3745\n",
      "Epoch 8/100\n",
      "1/1 [==============================] - 0s 86ms/step - loss: 148.9910 - mae: 149.4910 - val_loss: 152.8425 - val_mae: 153.3425\n",
      "Epoch 9/100\n",
      "1/1 [==============================] - 0s 89ms/step - loss: 151.5125 - mae: 152.0125 - val_loss: 118.1243 - val_mae: 118.6243\n",
      "Epoch 10/100\n",
      "1/1 [==============================] - 0s 92ms/step - loss: 153.3114 - mae: 153.8114 - val_loss: 95.3882 - val_mae: 95.8882\n",
      "Epoch 11/100\n",
      "1/1 [==============================] - 0s 85ms/step - loss: 154.4601 - mae: 154.9601 - val_loss: 83.4360 - val_mae: 83.9360\n",
      "Epoch 12/100\n",
      "1/1 [==============================] - 0s 83ms/step - loss: 155.0235 - mae: 155.5235 - val_loss: 81.1898 - val_mae: 81.6898\n",
      "Epoch 13/100\n",
      "1/1 [==============================] - 0s 92ms/step - loss: 155.0603 - mae: 155.5603 - val_loss: 87.6785 - val_mae: 88.1785\n",
      "Epoch 14/100\n",
      "1/1 [==============================] - 0s 93ms/step - loss: 154.6230 - mae: 155.1230 - val_loss: 102.0291 - val_mae: 102.5291\n",
      "Epoch 15/100\n",
      "1/1 [==============================] - 0s 87ms/step - loss: 153.7591 - mae: 154.2591 - val_loss: 123.4548 - val_mae: 123.9548\n",
      "Epoch 16/100\n",
      "1/1 [==============================] - 0s 87ms/step - loss: 152.5112 - mae: 153.0112 - val_loss: 151.2485 - val_mae: 151.7485\n",
      "Epoch 17/100\n",
      "1/1 [==============================] - 0s 95ms/step - loss: 150.9178 - mae: 151.4178 - val_loss: 184.7736 - val_mae: 185.2736\n",
      "Epoch 18/100\n",
      "1/1 [==============================] - 0s 91ms/step - loss: 149.0134 - mae: 149.5134 - val_loss: 223.4565 - val_mae: 223.9565\n",
      "Epoch 19/100\n",
      "1/1 [==============================] - 0s 86ms/step - loss: 146.8290 - mae: 147.3290 - val_loss: 266.7815 - val_mae: 267.2815\n",
      "Epoch 20/100\n",
      "1/1 [==============================] - 0s 93ms/step - loss: 144.3927 - mae: 144.8927 - val_loss: 314.2845 - val_mae: 314.7845\n",
      "Epoch 21/100\n",
      "1/1 [==============================] - 0s 84ms/step - loss: 141.7297 - mae: 142.2297 - val_loss: 365.5477 - val_mae: 366.0477\n",
      "Epoch 22/100\n",
      "1/1 [==============================] - 0s 98ms/step - loss: 138.8626 - mae: 139.3626 - val_loss: 420.1951 - val_mae: 420.6951\n"
     ]
    },
    {
     "data": {
      "text/plain": [
       "<tensorflow.python.keras.callbacks.History at 0x1b336e95278>"
      ]
     },
     "execution_count": 7,
     "metadata": {},
     "output_type": "execute_result"
    }
   ],
   "source": [
    "# Set up Window size. Window size tells how many values before predicted value we use for the prediction. \n",
    "# Do not think to use more than 2, because we have a limited amount of data\n",
    "window_size = 2\n",
    "train_set = window_dataset(x_train, window_size)\n",
    "valid_set = window_dataset(x_valid, window_size)\n",
    "\n",
    "# Initiate Sequential model with one Dense Layer \n",
    "model = keras.models.Sequential([\n",
    "  keras.layers.Dense(1, input_shape=[window_size])\n",
    "])\n",
    "\n",
    "# Set up optimizer and compile the model \n",
    "optimizer = keras.optimizers.SGD(lr=1e-5, momentum=0.9)\n",
    "model.compile(loss=keras.losses.Huber(),\n",
    "              optimizer=optimizer,\n",
    "              metrics=[\"mae\"])\n",
    "\n",
    "# Use Early stopping to decrease overfitting\n",
    "early_stopping = keras.callbacks.EarlyStopping(patience=10)\n",
    "model.fit(train_set, epochs=100,\n",
    "          validation_data=valid_set,\n",
    "          callbacks=[early_stopping])"
   ]
  },
  {
   "cell_type": "markdown",
   "metadata": {},
   "source": [
    "We need only 13 epochs for training. It's a logical scenario because we have a too limited amount of data"
   ]
  },
  {
   "cell_type": "code",
   "execution_count": 8,
   "metadata": {},
   "outputs": [],
   "source": [
    "# Create the function for forecasting \n",
    "def model_forecast(model, series, window_size):\n",
    "    ds = tf.data.Dataset.from_tensor_slices(series)\n",
    "    ds = ds.window(window_size, shift=1, drop_remainder=True)\n",
    "    ds = ds.flat_map(lambda w: w.batch(window_size))\n",
    "    ds = ds.batch(32).prefetch(1)\n",
    "    forecast = model.predict(ds)\n",
    "    return forecast"
   ]
  },
  {
   "cell_type": "code",
   "execution_count": 9,
   "metadata": {},
   "outputs": [],
   "source": [
    "# Forecasted values for \n",
    "lin_forecast = model_forecast(model, ts[split_time - window_size:-1], window_size)[:, 0]"
   ]
  },
  {
   "cell_type": "code",
   "execution_count": 10,
   "metadata": {},
   "outputs": [],
   "source": [
    "# Function to plot data on the chart\n",
    "def plot_series(time, series, format=\"-\", start=0, end=None, label=None):\n",
    "    plt.plot(time[start:end], series[start:end], format, label=label)\n",
    "    plt.xlabel(\"Time\")\n",
    "    plt.ylabel(\"Value\")\n",
    "    if label:\n",
    "        plt.legend(fontsize=14)\n",
    "    plt.grid(True)"
   ]
  },
  {
   "cell_type": "code",
   "execution_count": 11,
   "metadata": {},
   "outputs": [
    {
     "data": {
      "image/png": "[encoded data removed]",
      "text/plain": [
       "<Figure size 720x432 with 1 Axes>"
      ]
     },
     "metadata": {
      "needs_background": "light"
     },
     "output_type": "display_data"
    }
   ],
   "source": [
    "plt.figure(figsize=(10, 6))\n",
    "plot_series(time_valid, x_valid)\n",
    "plot_series(time_valid, lin_forecast)"
   ]
  },
  {
   "cell_type": "code",
   "execution_count": 12,
   "metadata": {},
   "outputs": [
    {
     "data": {
      "text/plain": [
       "419.16296"
      ]
     },
     "execution_count": 12,
     "metadata": {},
     "output_type": "execute_result"
    }
   ],
   "source": [
    "# Define mean absolute error for the model\n",
    "keras.metrics.mean_absolute_error(x_valid, lin_forecast).numpy()"
   ]
  },
  {
   "cell_type": "markdown",
   "metadata": {},
   "source": [
    "# 3. Use 2 Dense layers for the model"
   ]
  },
  {
   "cell_type": "code",
   "execution_count": 13,
   "metadata": {},
   "outputs": [
    {
     "name": "stdout",
     "output_type": "stream",
     "text": [
      "Epoch 1/100\n",
      "1/1 [==============================] - 1s 537ms/step - loss: 1264.3113 - mae: 1264.8113 - val_loss: 0.0000e+00 - val_mae: 0.0000e+00\n",
      "Epoch 2/100\n",
      "1/1 [==============================] - 0s 97ms/step - loss: 1247.1483 - mae: 1247.6483 - val_loss: 3098.1594 - val_mae: 3098.6594\n",
      "Epoch 3/100\n",
      "1/1 [==============================] - 0s 87ms/step - loss: 1214.0386 - mae: 1214.5386 - val_loss: 2985.6489 - val_mae: 2986.1489\n",
      "Epoch 4/100\n",
      "1/1 [==============================] - 0s 91ms/step - loss: 1168.0402 - mae: 1168.5402 - val_loss: 2863.2732 - val_mae: 2863.7732\n",
      "Epoch 5/100\n",
      "1/1 [==============================] - 0s 88ms/step - loss: 1118.8435 - mae: 1119.3435 - val_loss: 2709.2432 - val_mae: 2709.7432\n",
      "Epoch 6/100\n",
      "1/1 [==============================] - 0s 94ms/step - loss: 1056.8055 - mae: 1057.3055 - val_loss: 2516.4766 - val_mae: 2516.9766\n",
      "Epoch 7/100\n",
      "1/1 [==============================] - 0s 96ms/step - loss: 979.2046 - mae: 979.7046 - val_loss: 2276.8340 - val_mae: 2277.3340\n",
      "Epoch 8/100\n",
      "1/1 [==============================] - 0s 108ms/step - loss: 883.1092 - mae: 883.6092 - val_loss: 1978.6255 - val_mae: 1979.1255\n",
      "Epoch 9/100\n",
      "1/1 [==============================] - 0s 105ms/step - loss: 761.7140 - mae: 762.2140 - val_loss: 1601.3530 - val_mae: 1601.8530\n",
      "Epoch 10/100\n",
      "1/1 [==============================] - 0s 100ms/step - loss: 604.2012 - mae: 604.7012 - val_loss: 1118.7375 - val_mae: 1119.2375\n",
      "Epoch 11/100\n",
      "1/1 [==============================] - 0s 105ms/step - loss: 402.0477 - mae: 402.5477 - val_loss: 495.7168 - val_mae: 496.2168\n",
      "Epoch 12/100\n",
      "1/1 [==============================] - 0s 102ms/step - loss: 140.6438 - mae: 141.1438 - val_loss: 314.2584 - val_mae: 314.7584\n",
      "Epoch 13/100\n",
      "1/1 [==============================] - 0s 102ms/step - loss: 197.6234 - mae: 198.1234 - val_loss: 892.6895 - val_mae: 893.1895\n",
      "Epoch 14/100\n",
      "1/1 [==============================] - 0s 117ms/step - loss: 441.2490 - mae: 441.7490 - val_loss: 1183.0938 - val_mae: 1183.5938\n",
      "Epoch 15/100\n",
      "1/1 [==============================] - 0s 113ms/step - loss: 563.9105 - mae: 564.4105 - val_loss: 1172.1926 - val_mae: 1172.6926\n",
      "Epoch 16/100\n",
      "1/1 [==============================] - 0s 107ms/step - loss: 559.9899 - mae: 560.4899 - val_loss: 892.6555 - val_mae: 893.1555\n",
      "Epoch 17/100\n",
      "1/1 [==============================] - 0s 96ms/step - loss: 443.1942 - mae: 443.6942 - val_loss: 409.5891 - val_mae: 410.0891\n",
      "Epoch 18/100\n",
      "1/1 [==============================] - 0s 101ms/step - loss: 240.9936 - mae: 241.4936 - val_loss: 195.9003 - val_mae: 196.4003\n",
      "Epoch 19/100\n",
      "1/1 [==============================] - 0s 106ms/step - loss: 110.7948 - mae: 111.2948 - val_loss: 707.4977 - val_mae: 707.9977\n",
      "Epoch 20/100\n",
      "1/1 [==============================] - 0s 117ms/step - loss: 225.5745 - mae: 226.0745 - val_loss: 990.1936 - val_mae: 990.6936\n",
      "Epoch 21/100\n",
      "1/1 [==============================] - 0s 125ms/step - loss: 343.3597 - mae: 343.8597 - val_loss: 1107.6683 - val_mae: 1108.1683\n",
      "Epoch 22/100\n",
      "1/1 [==============================] - 0s 130ms/step - loss: 392.0045 - mae: 392.5045 - val_loss: 1092.4963 - val_mae: 1092.9963\n",
      "Epoch 23/100\n",
      "1/1 [==============================] - 0s 92ms/step - loss: 385.2059 - mae: 385.7059 - val_loss: 956.9213 - val_mae: 957.4213\n",
      "Epoch 24/100\n",
      "1/1 [==============================] - 0s 84ms/step - loss: 328.0624 - mae: 328.5624 - val_loss: 697.9985 - val_mae: 698.4985\n",
      "Epoch 25/100\n",
      "1/1 [==============================] - 0s 91ms/step - loss: 219.2525 - mae: 219.7525 - val_loss: 299.2108 - val_mae: 299.7108\n",
      "Epoch 26/100\n",
      "1/1 [==============================] - 0s 94ms/step - loss: 110.4466 - mae: 110.9466 - val_loss: 127.8632 - val_mae: 128.3632\n",
      "Epoch 27/100\n",
      "1/1 [==============================] - 0s 87ms/step - loss: 145.9819 - mae: 146.4819 - val_loss: 415.9265 - val_mae: 416.4265\n",
      "Epoch 28/100\n",
      "1/1 [==============================] - 0s 90ms/step - loss: 248.5567 - mae: 249.0567 - val_loss: 465.0027 - val_mae: 465.5027\n",
      "Epoch 29/100\n",
      "1/1 [==============================] - 0s 106ms/step - loss: 269.5563 - mae: 270.0563 - val_loss: 292.4385 - val_mae: 292.9385\n",
      "Epoch 30/100\n",
      "1/1 [==============================] - 0s 103ms/step - loss: 197.4469 - mae: 197.9469 - val_loss: 56.1497 - val_mae: 56.6497\n",
      "Epoch 31/100\n",
      "1/1 [==============================] - 0s 103ms/step - loss: 120.5586 - mae: 121.0586 - val_loss: 373.1610 - val_mae: 373.6610\n",
      "Epoch 32/100\n",
      "1/1 [==============================] - 0s 88ms/step - loss: 117.9948 - mae: 118.4948 - val_loss: 606.6904 - val_mae: 607.1904\n",
      "Epoch 33/100\n",
      "1/1 [==============================] - 0s 96ms/step - loss: 178.4292 - mae: 178.9292 - val_loss: 663.9775 - val_mae: 664.4775\n",
      "Epoch 34/100\n",
      "1/1 [==============================] - 0s 86ms/step - loss: 202.2901 - mae: 202.7901 - val_loss: 570.6534 - val_mae: 571.1534\n",
      "Epoch 35/100\n",
      "1/1 [==============================] - 0s 87ms/step - loss: 163.0493 - mae: 163.5493 - val_loss: 330.8087 - val_mae: 331.3087\n",
      "Epoch 36/100\n",
      "1/1 [==============================] - 0s 86ms/step - loss: 114.0354 - mae: 114.5354 - val_loss: 65.3977 - val_mae: 65.8977\n",
      "Epoch 37/100\n",
      "1/1 [==============================] - 0s 96ms/step - loss: 120.5710 - mae: 121.0710 - val_loss: 161.3907 - val_mae: 161.8907\n",
      "Epoch 38/100\n",
      "1/1 [==============================] - 0s 91ms/step - loss: 155.0076 - mae: 155.5076 - val_loss: 252.8054 - val_mae: 253.3054\n",
      "Epoch 39/100\n",
      "1/1 [==============================] - 0s 84ms/step - loss: 182.0710 - mae: 182.5710 - val_loss: 133.9628 - val_mae: 134.4628\n",
      "Epoch 40/100\n",
      "1/1 [==============================] - 0s 85ms/step - loss: 148.1289 - mae: 148.6289 - val_loss: 83.6268 - val_mae: 84.1268\n"
     ]
    },
    {
     "data": {
      "text/plain": [
       "<tensorflow.python.keras.callbacks.History at 0x1b338d10da0>"
      ]
     },
     "execution_count": 13,
     "metadata": {},
     "output_type": "execute_result"
    }
   ],
   "source": [
    "# Build and train the model \n",
    "keras.backend.clear_session()\n",
    "tf.random.set_seed(42)\n",
    "np.random.seed(42)\n",
    "\n",
    "window_size = 2\n",
    "train_set = window_dataset(x_train, window_size)\n",
    "valid_set = window_dataset(x_valid, window_size)\n",
    "\n",
    "model = keras.models.Sequential([\n",
    "  keras.layers.Dense(10, activation=\"relu\", input_shape=[window_size]),\n",
    "  keras.layers.Dense(10, activation=\"relu\"),\n",
    "  keras.layers.Dense(1)\n",
    "])\n",
    "\n",
    "optimizer = keras.optimizers.SGD(lr=1e-5, momentum=0.9)\n",
    "model.compile(loss=keras.losses.Huber(),\n",
    "              optimizer=optimizer,\n",
    "              metrics=[\"mae\"])\n",
    "early_stopping = keras.callbacks.EarlyStopping(patience=10)\n",
    "model.fit(train_set, epochs=100,\n",
    "          validation_data=valid_set,\n",
    "          callbacks=[early_stopping])"
   ]
  },
  {
   "cell_type": "code",
   "execution_count": 14,
   "metadata": {},
   "outputs": [
    {
     "data": {
      "image/png": "[encoded data removed]",
      "text/plain": [
       "<Figure size 720x432 with 1 Axes>"
      ]
     },
     "metadata": {
      "needs_background": "light"
     },
     "output_type": "display_data"
    }
   ],
   "source": [
    "# Forecast data \n",
    "dense_forecast = model_forecast(\n",
    "    model,\n",
    "    ts[split_time - window_size:-1],\n",
    "    window_size)[:, 0]\n",
    "# Display data on the chart\n",
    "plt.figure(figsize=(10, 6))\n",
    "plot_series(time_valid, x_valid)\n",
    "plot_series(time_valid, lin_forecast)"
   ]
  },
  {
   "cell_type": "code",
   "execution_count": 15,
   "metadata": {},
   "outputs": [
    {
     "data": {
      "text/plain": [
       "128.17676"
      ]
     },
     "execution_count": 15,
     "metadata": {},
     "output_type": "execute_result"
    }
   ],
   "source": [
    "# Define mean absolute error for the model\n",
    "keras.metrics.mean_absolute_error(x_valid, dense_forecast).numpy()"
   ]
  },
  {
   "cell_type": "code",
   "execution_count": 16,
   "metadata": {},
   "outputs": [
    {
     "name": "stderr",
     "output_type": "stream",
     "text": [
      "W1005 14:00:27.946272  1840 deprecation.py:506] From C:\\Users\\ivan1\\Anaconda3\\lib\\site-packages\\tensorflow_core\\python\\ops\\resource_variable_ops.py:1781: calling BaseResourceVariable.__init__ (from tensorflow.python.ops.resource_variable_ops) with constraint is deprecated and will be removed in a future version.\n",
      "Instructions for updating:\n",
      "If using Keras pass *_constraint arguments to layers.\n"
     ]
    }
   ],
   "source": [
    "# Save the model with 2 dense layers\n",
    "model.save('2_Dense.model')"
   ]
  },
  {
   "cell_type": "markdown",
   "metadata": {},
   "source": [
    "##### Conclusion"
   ]
  },
  {
   "cell_type": "markdown",
   "metadata": {},
   "source": [
    "Adding a new Dense layer improved the model MAE was 419 and become 128. So, we should use the model with 2 Dense layers.\n"
   ]
  },
  {
   "cell_type": "markdown",
   "metadata": {},
   "source": [
    "# 4. Use simple Recurrent network for the prediction"
   ]
  },
  {
   "cell_type": "code",
   "execution_count": 17,
   "metadata": {},
   "outputs": [
    {
     "name": "stdout",
     "output_type": "stream",
     "text": [
      "Epoch 1/100\n",
      "1/1 [==============================] - 2s 2s/step - loss: 1468.2173 - mae: 1468.7173 - val_loss: 0.0000e+00 - val_mae: 0.0000e+00\n",
      "Epoch 2/100\n",
      "1/1 [==============================] - 0s 91ms/step - loss: 1451.9133 - mae: 1452.4133 - val_loss: 3604.2671 - val_mae: 3604.7671\n",
      "Epoch 3/100\n",
      "1/1 [==============================] - 0s 93ms/step - loss: 1420.9070 - mae: 1421.4070 - val_loss: 3560.1929 - val_mae: 3560.6929\n",
      "Epoch 4/100\n",
      "1/1 [==============================] - 0s 93ms/step - loss: 1376.2539 - mae: 1376.7539 - val_loss: 3478.4492 - val_mae: 3478.9492\n",
      "Epoch 5/100\n",
      "1/1 [==============================] - 0s 93ms/step - loss: 1292.9340 - mae: 1293.4340 - val_loss: 3416.1204 - val_mae: 3416.6204\n",
      "Epoch 6/100\n",
      "1/1 [==============================] - 0s 95ms/step - loss: 1229.0544 - mae: 1229.5544 - val_loss: 3365.4233 - val_mae: 3365.9233\n",
      "Epoch 7/100\n",
      "1/1 [==============================] - 0s 97ms/step - loss: 1179.4747 - mae: 1179.9747 - val_loss: 3267.5720 - val_mae: 3268.0720\n",
      "Epoch 8/100\n",
      "1/1 [==============================] - 0s 107ms/step - loss: 1084.3481 - mae: 1084.8481 - val_loss: 3183.6790 - val_mae: 3184.1790\n",
      "Epoch 9/100\n",
      "1/1 [==============================] - 0s 110ms/step - loss: 1000.4549 - mae: 1000.9549 - val_loss: 3095.2820 - val_mae: 3095.7820\n",
      "Epoch 10/100\n",
      "1/1 [==============================] - 0s 96ms/step - loss: 912.0576 - mae: 912.5576 - val_loss: 3003.9009 - val_mae: 3004.4009\n",
      "Epoch 11/100\n",
      "1/1 [==============================] - 0s 92ms/step - loss: 820.6765 - mae: 821.1765 - val_loss: 2911.0388 - val_mae: 2911.5388\n",
      "Epoch 12/100\n",
      "1/1 [==============================] - 0s 89ms/step - loss: 727.8143 - mae: 728.3143 - val_loss: 2818.0903 - val_mae: 2818.5903\n",
      "Epoch 13/100\n",
      "1/1 [==============================] - 0s 87ms/step - loss: 634.8656 - mae: 635.3656 - val_loss: 2726.2502 - val_mae: 2726.7502\n",
      "Epoch 14/100\n",
      "1/1 [==============================] - 0s 93ms/step - loss: 543.0253 - mae: 543.5253 - val_loss: 2636.4495 - val_mae: 2636.9495\n",
      "Epoch 15/100\n",
      "1/1 [==============================] - 0s 92ms/step - loss: 453.2250 - mae: 453.7250 - val_loss: 2549.3308 - val_mae: 2549.8308\n",
      "Epoch 16/100\n",
      "1/1 [==============================] - 0s 94ms/step - loss: 366.1067 - mae: 366.6067 - val_loss: 2465.2634 - val_mae: 2465.7634\n",
      "Epoch 17/100\n",
      "1/1 [==============================] - 0s 102ms/step - loss: 282.0405 - mae: 282.5405 - val_loss: 2384.3892 - val_mae: 2384.8892\n",
      "Epoch 18/100\n",
      "1/1 [==============================] - 0s 93ms/step - loss: 209.2332 - mae: 209.7116 - val_loss: 2312.5754 - val_mae: 2313.0754\n",
      "Epoch 19/100\n",
      "1/1 [==============================] - 0s 95ms/step - loss: 212.5803 - mae: 213.0803 - val_loss: 2252.3857 - val_mae: 2252.8857\n",
      "Epoch 20/100\n",
      "1/1 [==============================] - 0s 91ms/step - loss: 224.6169 - mae: 225.1169 - val_loss: 2201.9336 - val_mae: 2202.4336\n",
      "Epoch 21/100\n",
      "1/1 [==============================] - 0s 90ms/step - loss: 234.7056 - mae: 235.2056 - val_loss: 2159.6738 - val_mae: 2160.1738\n",
      "Epoch 22/100\n",
      "1/1 [==============================] - 0s 96ms/step - loss: 243.1557 - mae: 243.6557 - val_loss: 2124.3430 - val_mae: 2124.8430\n",
      "Epoch 23/100\n",
      "1/1 [==============================] - 0s 88ms/step - loss: 250.2197 - mae: 250.7197 - val_loss: 2094.9060 - val_mae: 2095.4060\n",
      "Epoch 24/100\n",
      "1/1 [==============================] - 0s 92ms/step - loss: 256.1040 - mae: 256.6040 - val_loss: 2070.5132 - val_mae: 2071.0132\n",
      "Epoch 25/100\n",
      "1/1 [==============================] - 0s 90ms/step - loss: 260.9779 - mae: 261.4779 - val_loss: 2050.4612 - val_mae: 2050.9612\n",
      "Epoch 26/100\n",
      "1/1 [==============================] - 0s 96ms/step - loss: 264.9810 - mae: 265.4810 - val_loss: 2034.1648 - val_mae: 2034.6648\n",
      "Epoch 27/100\n",
      "1/1 [==============================] - 0s 87ms/step - loss: 268.2258 - mae: 268.7258 - val_loss: 2021.1351 - val_mae: 2021.6351\n",
      "Epoch 28/100\n",
      "1/1 [==============================] - 0s 89ms/step - loss: 273.7254 - mae: 274.2254 - val_loss: 2013.7405 - val_mae: 2014.2405\n",
      "Epoch 29/100\n",
      "1/1 [==============================] - 0s 91ms/step - loss: 277.6279 - mae: 278.1279 - val_loss: 2034.9834 - val_mae: 2035.4834\n",
      "Epoch 30/100\n",
      "1/1 [==============================] - 0s 96ms/step - loss: 268.4816 - mae: 268.9816 - val_loss: 2033.8367 - val_mae: 2034.3367\n",
      "Epoch 31/100\n",
      "1/1 [==============================] - 0s 87ms/step - loss: 268.3284 - mae: 268.8284 - val_loss: 2034.2927 - val_mae: 2034.7927\n",
      "Epoch 32/100\n",
      "1/1 [==============================] - 0s 95ms/step - loss: 268.2373 - mae: 268.7373 - val_loss: 2036.1648 - val_mae: 2036.6648\n",
      "Epoch 33/100\n",
      "1/1 [==============================] - 0s 98ms/step - loss: 267.8628 - mae: 268.3628 - val_loss: 2039.2922 - val_mae: 2039.7922\n",
      "Epoch 34/100\n",
      "1/1 [==============================] - 0s 88ms/step - loss: 267.2374 - mae: 267.7374 - val_loss: 2043.5339 - val_mae: 2044.0339\n",
      "Epoch 35/100\n",
      "1/1 [==============================] - 0s 92ms/step - loss: 266.3890 - mae: 266.8890 - val_loss: 2048.7673 - val_mae: 2049.2673\n",
      "Epoch 36/100\n",
      "1/1 [==============================] - 0s 94ms/step - loss: 265.3423 - mae: 265.8423 - val_loss: 2054.8855 - val_mae: 2055.3855\n",
      "Epoch 37/100\n",
      "1/1 [==============================] - 0s 91ms/step - loss: 264.1186 - mae: 264.6186 - val_loss: 2061.7935 - val_mae: 2062.2935\n",
      "Epoch 38/100\n",
      "1/1 [==============================] - 0s 88ms/step - loss: 262.7370 - mae: 263.2370 - val_loss: 2069.4075 - val_mae: 2069.9075\n",
      "Epoch 39/100\n",
      "1/1 [==============================] - 0s 90ms/step - loss: 261.2143 - mae: 261.7143 - val_loss: 2077.6545 - val_mae: 2078.1545\n",
      "Epoch 40/100\n",
      "1/1 [==============================] - 0s 88ms/step - loss: 259.5649 - mae: 260.0649 - val_loss: 2086.4690 - val_mae: 2086.9690\n",
      "Epoch 41/100\n",
      "1/1 [==============================] - 0s 90ms/step - loss: 257.8017 - mae: 258.3017 - val_loss: 2095.7925 - val_mae: 2096.2925\n",
      "Epoch 42/100\n",
      "1/1 [==============================] - 0s 88ms/step - loss: 255.9371 - mae: 256.4371 - val_loss: 2105.5730 - val_mae: 2106.0730\n",
      "Epoch 43/100\n",
      "1/1 [==============================] - 0s 91ms/step - loss: 253.9810 - mae: 254.4810 - val_loss: 2115.7651 - val_mae: 2116.2651\n",
      "Epoch 44/100\n",
      "1/1 [==============================] - 0s 87ms/step - loss: 251.9426 - mae: 252.4426 - val_loss: 2126.3267 - val_mae: 2126.8267\n",
      "Epoch 45/100\n",
      "1/1 [==============================] - 0s 88ms/step - loss: 249.8301 - mae: 250.3301 - val_loss: 2137.2214 - val_mae: 2137.7214\n",
      "Epoch 46/100\n",
      "1/1 [==============================] - 0s 93ms/step - loss: 247.6514 - mae: 248.1514 - val_loss: 2148.4158 - val_mae: 2148.9158\n",
      "Epoch 47/100\n",
      "1/1 [==============================] - 0s 91ms/step - loss: 245.4126 - mae: 245.9126 - val_loss: 2159.8799 - val_mae: 2160.3799\n",
      "Epoch 48/100\n",
      "1/1 [==============================] - 0s 109ms/step - loss: 243.1195 - mae: 243.6195 - val_loss: 2171.5874 - val_mae: 2172.0874\n",
      "Epoch 49/100\n",
      "1/1 [==============================] - 0s 109ms/step - loss: 240.7782 - mae: 241.2782 - val_loss: 2183.5134 - val_mae: 2184.0134\n",
      "Epoch 50/100\n",
      "1/1 [==============================] - 0s 93ms/step - loss: 238.3928 - mae: 238.8928 - val_loss: 2195.6379 - val_mae: 2196.1379\n",
      "Epoch 51/100\n",
      "1/1 [==============================] - 0s 84ms/step - loss: 235.9680 - mae: 236.4680 - val_loss: 2207.9397 - val_mae: 2208.4397\n",
      "Epoch 52/100\n",
      "1/1 [==============================] - 0s 92ms/step - loss: 233.5078 - mae: 234.0078 - val_loss: 2220.4016 - val_mae: 2220.9016\n",
      "Epoch 53/100\n",
      "1/1 [==============================] - 0s 89ms/step - loss: 231.0152 - mae: 231.5152 - val_loss: 2233.0085 - val_mae: 2233.5085\n",
      "Epoch 54/100\n",
      "1/1 [==============================] - 0s 86ms/step - loss: 228.4939 - mae: 228.9939 - val_loss: 2245.7454 - val_mae: 2246.2454\n",
      "Epoch 55/100\n",
      "1/1 [==============================] - 0s 88ms/step - loss: 225.9465 - mae: 226.4465 - val_loss: 2258.5991 - val_mae: 2259.0991\n",
      "Epoch 56/100\n",
      "1/1 [==============================] - 0s 88ms/step - loss: 223.3757 - mae: 223.8757 - val_loss: 2271.5583 - val_mae: 2272.0583\n",
      "Epoch 57/100\n",
      "1/1 [==============================] - 0s 90ms/step - loss: 220.7838 - mae: 221.2838 - val_loss: 2284.6125 - val_mae: 2285.1125\n",
      "Epoch 58/100\n",
      "1/1 [==============================] - 0s 88ms/step - loss: 218.1730 - mae: 218.6730 - val_loss: 2297.7522 - val_mae: 2298.2522\n",
      "Epoch 59/100\n"
     ]
    },
    {
     "name": "stdout",
     "output_type": "stream",
     "text": [
      "1/1 [==============================] - 0s 88ms/step - loss: 215.5452 - mae: 216.0452 - val_loss: 2310.9680 - val_mae: 2311.4680\n",
      "Epoch 60/100\n",
      "1/1 [==============================] - 0s 102ms/step - loss: 212.9019 - mae: 213.4019 - val_loss: 2324.2527 - val_mae: 2324.7527\n",
      "Epoch 61/100\n",
      "1/1 [==============================] - 0s 87ms/step - loss: 210.2449 - mae: 210.7449 - val_loss: 2337.5996 - val_mae: 2338.0996\n",
      "Epoch 62/100\n",
      "1/1 [==============================] - 0s 88ms/step - loss: 207.5756 - mae: 208.0756 - val_loss: 2351.0017 - val_mae: 2351.5017\n",
      "Epoch 63/100\n",
      "1/1 [==============================] - 0s 110ms/step - loss: 204.8951 - mae: 205.3951 - val_loss: 2364.4539 - val_mae: 2364.9539\n",
      "Epoch 64/100\n",
      "1/1 [==============================] - 0s 85ms/step - loss: 205.2240 - mae: 205.7240 - val_loss: 2375.1580 - val_mae: 2375.6580\n",
      "Epoch 65/100\n",
      "1/1 [==============================] - 0s 96ms/step - loss: 207.3649 - mae: 207.8649 - val_loss: 2383.3904 - val_mae: 2383.8904\n",
      "Epoch 66/100\n",
      "1/1 [==============================] - 0s 88ms/step - loss: 209.0112 - mae: 209.5112 - val_loss: 2389.3992 - val_mae: 2389.8992\n",
      "Epoch 67/100\n",
      "1/1 [==============================] - 0s 88ms/step - loss: 212.0039 - mae: 212.5039 - val_loss: 2390.6199 - val_mae: 2391.1199\n",
      "Epoch 68/100\n",
      "1/1 [==============================] - 0s 92ms/step - loss: 212.7363 - mae: 213.2363 - val_loss: 2387.5374 - val_mae: 2388.0374\n",
      "Epoch 69/100\n",
      "1/1 [==============================] - 0s 92ms/step - loss: 210.8866 - mae: 211.3866 - val_loss: 2380.5896 - val_mae: 2381.0896\n",
      "Epoch 70/100\n",
      "1/1 [==============================] - 0s 89ms/step - loss: 208.4512 - mae: 208.9512 - val_loss: 2372.9534 - val_mae: 2373.4534\n",
      "Epoch 71/100\n",
      "1/1 [==============================] - 0s 91ms/step - loss: 206.9239 - mae: 207.4239 - val_loss: 2364.6985 - val_mae: 2365.1985\n",
      "Epoch 72/100\n",
      "1/1 [==============================] - 0s 90ms/step - loss: 205.2730 - mae: 205.7730 - val_loss: 2355.8894 - val_mae: 2356.3894\n",
      "Epoch 73/100\n",
      "1/1 [==============================] - 0s 89ms/step - loss: 203.9174 - mae: 204.4174 - val_loss: 2349.3538 - val_mae: 2349.8538\n",
      "Epoch 74/100\n",
      "1/1 [==============================] - 0s 97ms/step - loss: 205.2247 - mae: 205.7247 - val_loss: 2344.8596 - val_mae: 2345.3596\n",
      "Epoch 75/100\n",
      "1/1 [==============================] - 0s 103ms/step - loss: 206.1234 - mae: 206.6234 - val_loss: 2342.2000 - val_mae: 2342.7000\n",
      "Epoch 76/100\n",
      "1/1 [==============================] - 0s 134ms/step - loss: 206.6553 - mae: 207.1553 - val_loss: 2341.1892 - val_mae: 2341.6892\n",
      "Epoch 77/100\n",
      "1/1 [==============================] - 0s 98ms/step - loss: 206.8574 - mae: 207.3574 - val_loss: 2341.6609 - val_mae: 2342.1609\n",
      "Epoch 78/100\n",
      "1/1 [==============================] - 0s 97ms/step - loss: 206.7630 - mae: 207.2630 - val_loss: 2343.4656 - val_mae: 2343.9656\n"
     ]
    },
    {
     "data": {
      "text/plain": [
       "<tensorflow.python.keras.callbacks.History at 0x1b3393adf60>"
      ]
     },
     "execution_count": 17,
     "metadata": {},
     "output_type": "execute_result"
    }
   ],
   "source": [
    "# Create and train the model \n",
    "keras.backend.clear_session()\n",
    "tf.random.set_seed(42)\n",
    "np.random.seed(42)\n",
    "\n",
    "window_size = 2\n",
    "train_set = window_dataset(x_train, window_size, batch_size=128)\n",
    "valid_set = window_dataset(x_valid, window_size, batch_size=128)\n",
    "\n",
    "model = keras.models.Sequential([\n",
    "  keras.layers.Lambda(lambda x: tf.expand_dims(x, axis=-1), # 3-dimensional layer for RNN\n",
    "                      input_shape=[None]),\n",
    "  keras.layers.SimpleRNN(100, return_sequences=True),\n",
    "  keras.layers.SimpleRNN(100),\n",
    "  keras.layers.Dense(1),\n",
    "  keras.layers.Lambda(lambda x: x * 200.0) # Instead of normalizing\n",
    "])\n",
    "optimizer = keras.optimizers.SGD(lr=1.5e-6, momentum=0.9)\n",
    "model.compile(loss=keras.losses.Huber(),\n",
    "              optimizer=optimizer,\n",
    "              metrics=[\"mae\"])\n",
    "early_stopping = keras.callbacks.EarlyStopping(patience=50)\n",
    "model.fit(train_set, epochs=100,\n",
    "          validation_data=valid_set,\n",
    "          callbacks=[early_stopping])"
   ]
  },
  {
   "cell_type": "code",
   "execution_count": 18,
   "metadata": {},
   "outputs": [],
   "source": [
    "# Forecasting \n",
    "rnn_forecast = model_forecast(\n",
    "    model,\n",
    "    ts[split_time - window_size:-1],\n",
    "    window_size)[:, 0]"
   ]
  },
  {
   "cell_type": "code",
   "execution_count": 19,
   "metadata": {},
   "outputs": [
    {
     "data": {
      "image/png": "[encoded data removed]",
      "text/plain": [
       "<Figure size 720x432 with 1 Axes>"
      ]
     },
     "metadata": {
      "needs_background": "light"
     },
     "output_type": "display_data"
    }
   ],
   "source": [
    "# Draw charts\n",
    "plt.figure(figsize=(10, 6))\n",
    "plot_series(time_valid, x_valid)\n",
    "plot_series(time_valid, rnn_forecast)"
   ]
  },
  {
   "cell_type": "code",
   "execution_count": 20,
   "metadata": {},
   "outputs": [
    {
     "data": {
      "text/plain": [
       "1824.6292"
      ]
     },
     "execution_count": 20,
     "metadata": {},
     "output_type": "execute_result"
    }
   ],
   "source": [
    "# Define the the error\n",
    "keras.metrics.mean_absolute_error(x_valid, rnn_forecast).numpy()"
   ]
  },
  {
   "cell_type": "markdown",
   "metadata": {},
   "source": [
    "So, MAE is the worst from all models on Neural Networks. \n",
    "So, We should not continue with RNN. Even the first implementation give us not good results"
   ]
  },
  {
   "cell_type": "markdown",
   "metadata": {},
   "source": [
    "# 5. Use Strateful RNN"
   ]
  },
  {
   "cell_type": "code",
   "execution_count": 21,
   "metadata": {},
   "outputs": [],
   "source": [
    "# Dataset Function\n",
    "def sequential_window_dataset(series, window_size):\n",
    "    series = tf.expand_dims(series, axis=-1)\n",
    "    ds = tf.data.Dataset.from_tensor_slices(series)\n",
    "    ds = ds.window(window_size + 1, shift=window_size, drop_remainder=True)\n",
    "    ds = ds.flat_map(lambda window: window.batch(window_size + 1))\n",
    "    ds = ds.map(lambda window: (window[:-1], window[1:]))\n",
    "    return ds.batch(1).prefetch(1)"
   ]
  },
  {
   "cell_type": "code",
   "execution_count": 22,
   "metadata": {},
   "outputs": [],
   "source": [
    "# Class to Reset the model before every epoch \n",
    "class ResetStatesCallback(keras.callbacks.Callback):\n",
    "    def on_epoch_begin(self, epoch, logs):\n",
    "        self.model.reset_states()"
   ]
  },
  {
   "cell_type": "code",
   "execution_count": 23,
   "metadata": {},
   "outputs": [
    {
     "name": "stdout",
     "output_type": "stream",
     "text": [
      "Epoch 1/500\n",
      "3/3 [==============================] - 3s 918ms/step - loss: 1189.2194 - mae: 1189.7194 - val_loss: 0.0000e+00 - val_mae: 0.0000e+00\n",
      "Epoch 2/500\n",
      "3/3 [==============================] - 0s 30ms/step - loss: 1172.5341 - mae: 1173.0342 - val_loss: 2906.1011 - val_mae: 2906.6011\n",
      "Epoch 3/500\n",
      "3/3 [==============================] - 0s 28ms/step - loss: 1164.0338 - mae: 1164.5338 - val_loss: 2894.8960 - val_mae: 2895.3960\n",
      "Epoch 4/500\n",
      "3/3 [==============================] - 0s 30ms/step - loss: 1152.8511 - mae: 1153.3511 - val_loss: 2881.3076 - val_mae: 2881.8076\n",
      "Epoch 5/500\n",
      "3/3 [==============================] - 0s 31ms/step - loss: 1139.7192 - mae: 1140.2191 - val_loss: 2865.9980 - val_mae: 2866.4980\n",
      "Epoch 6/500\n",
      "3/3 [==============================] - 0s 29ms/step - loss: 1125.1746 - mae: 1125.6746 - val_loss: 2849.4460 - val_mae: 2849.9460\n",
      "Epoch 7/500\n",
      "3/3 [==============================] - 0s 29ms/step - loss: 1109.6110 - mae: 1110.1110 - val_loss: 2832.0017 - val_mae: 2832.5017\n",
      "Epoch 8/500\n",
      "3/3 [==============================] - 0s 31ms/step - loss: 1093.3175 - mae: 1093.8175 - val_loss: 2813.9219 - val_mae: 2814.4219\n",
      "Epoch 9/500\n",
      "3/3 [==============================] - 0s 29ms/step - loss: 1076.5062 - mae: 1077.0062 - val_loss: 2795.3938 - val_mae: 2795.8938\n",
      "Epoch 10/500\n",
      "3/3 [==============================] - 0s 30ms/step - loss: 1059.3328 - mae: 1059.8329 - val_loss: 2776.5549 - val_mae: 2777.0549\n",
      "Epoch 11/500\n",
      "3/3 [==============================] - 0s 31ms/step - loss: 1041.9117 - mae: 1042.4117 - val_loss: 2757.5061 - val_mae: 2758.0061\n",
      "Epoch 12/500\n",
      "3/3 [==============================] - 0s 29ms/step - loss: 1024.3270 - mae: 1024.8270 - val_loss: 2738.3210 - val_mae: 2738.8210\n",
      "Epoch 13/500\n",
      "3/3 [==============================] - 0s 28ms/step - loss: 1006.6404 - mae: 1007.1404 - val_loss: 2719.0540 - val_mae: 2719.5540\n",
      "Epoch 14/500\n",
      "3/3 [==============================] - 0s 29ms/step - loss: 988.8975 - mae: 989.3975 - val_loss: 2699.7449 - val_mae: 2700.2449\n",
      "Epoch 15/500\n",
      "3/3 [==============================] - 0s 29ms/step - loss: 971.1320 - mae: 971.6320 - val_loss: 2680.4243 - val_mae: 2680.9243\n",
      "Epoch 16/500\n",
      "3/3 [==============================] - 0s 30ms/step - loss: 953.3691 - mae: 953.8691 - val_loss: 2661.1150 - val_mae: 2661.6150\n",
      "Epoch 17/500\n",
      "3/3 [==============================] - 0s 29ms/step - loss: 935.6274 - mae: 936.1274 - val_loss: 2641.8345 - val_mae: 2642.3345\n",
      "Epoch 18/500\n",
      "3/3 [==============================] - 0s 32ms/step - loss: 917.9210 - mae: 918.4210 - val_loss: 2622.5977 - val_mae: 2623.0977\n",
      "Epoch 19/500\n",
      "3/3 [==============================] - 0s 29ms/step - loss: 900.2610 - mae: 900.7610 - val_loss: 2603.4158 - val_mae: 2603.9158\n",
      "Epoch 20/500\n",
      "3/3 [==============================] - 0s 30ms/step - loss: 882.6560 - mae: 883.1559 - val_loss: 2584.2986 - val_mae: 2584.7986\n",
      "Epoch 21/500\n",
      "3/3 [==============================] - 0s 29ms/step - loss: 865.1124 - mae: 865.6124 - val_loss: 2565.2554 - val_mae: 2565.7554\n",
      "Epoch 22/500\n",
      "3/3 [==============================] - 0s 31ms/step - loss: 847.6357 - mae: 848.1357 - val_loss: 2546.2927 - val_mae: 2546.7927\n",
      "Epoch 23/500\n",
      "3/3 [==============================] - 0s 29ms/step - loss: 830.2304 - mae: 830.7303 - val_loss: 2527.4180 - val_mae: 2527.9180\n",
      "Epoch 24/500\n",
      "3/3 [==============================] - 0s 28ms/step - loss: 812.8999 - mae: 813.3999 - val_loss: 2508.6367 - val_mae: 2509.1367\n",
      "Epoch 25/500\n",
      "3/3 [==============================] - 0s 32ms/step - loss: 795.6472 - mae: 796.1472 - val_loss: 2489.9541 - val_mae: 2490.4541\n",
      "Epoch 26/500\n",
      "3/3 [==============================] - 0s 30ms/step - loss: 778.4745 - mae: 778.9745 - val_loss: 2471.3745 - val_mae: 2471.8745\n",
      "Epoch 27/500\n",
      "3/3 [==============================] - 0s 30ms/step - loss: 761.3838 - mae: 761.8838 - val_loss: 2452.9014 - val_mae: 2453.4014\n",
      "Epoch 28/500\n",
      "3/3 [==============================] - 0s 30ms/step - loss: 744.3764 - mae: 744.8764 - val_loss: 2434.5376 - val_mae: 2435.0376\n",
      "Epoch 29/500\n",
      "3/3 [==============================] - 0s 31ms/step - loss: 727.4529 - mae: 727.9529 - val_loss: 2416.2852 - val_mae: 2416.7852\n",
      "Epoch 30/500\n",
      "3/3 [==============================] - 0s 29ms/step - loss: 710.6140 - mae: 711.1140 - val_loss: 2398.1455 - val_mae: 2398.6455\n",
      "Epoch 31/500\n",
      "3/3 [==============================] - 0s 28ms/step - loss: 693.8596 - mae: 694.3596 - val_loss: 2380.1187 - val_mae: 2380.6187\n",
      "Epoch 32/500\n",
      "3/3 [==============================] - 0s 29ms/step - loss: 677.1892 - mae: 677.6892 - val_loss: 2362.2046 - val_mae: 2362.7046\n",
      "Epoch 33/500\n",
      "3/3 [==============================] - 0s 29ms/step - loss: 660.6022 - mae: 661.1022 - val_loss: 2344.4026 - val_mae: 2344.9026\n",
      "Epoch 34/500\n",
      "3/3 [==============================] - 0s 32ms/step - loss: 644.0973 - mae: 644.5974 - val_loss: 2326.7112 - val_mae: 2327.2112\n",
      "Epoch 35/500\n",
      "3/3 [==============================] - 0s 29ms/step - loss: 627.6734 - mae: 628.1734 - val_loss: 2309.1279 - val_mae: 2309.6279\n",
      "Epoch 36/500\n",
      "3/3 [==============================] - 0s 31ms/step - loss: 611.3283 - mae: 611.8284 - val_loss: 2291.6509 - val_mae: 2292.1509\n",
      "Epoch 37/500\n",
      "3/3 [==============================] - 0s 29ms/step - loss: 595.0606 - mae: 595.5605 - val_loss: 2274.2769 - val_mae: 2274.7769\n",
      "Epoch 38/500\n",
      "3/3 [==============================] - 0s 30ms/step - loss: 578.8678 - mae: 579.3678 - val_loss: 2257.0027 - val_mae: 2257.5027\n",
      "Epoch 39/500\n",
      "3/3 [==============================] - 0s 31ms/step - loss: 562.7479 - mae: 563.2479 - val_loss: 2239.8252 - val_mae: 2240.3252\n",
      "Epoch 40/500\n",
      "3/3 [==============================] - 0s 30ms/step - loss: 546.6982 - mae: 547.1982 - val_loss: 2222.7407 - val_mae: 2223.2407\n",
      "Epoch 41/500\n",
      "3/3 [==============================] - 0s 29ms/step - loss: 530.7162 - mae: 531.2161 - val_loss: 2205.7451 - val_mae: 2206.2451\n",
      "Epoch 42/500\n",
      "3/3 [==============================] - 0s 29ms/step - loss: 514.7992 - mae: 515.2993 - val_loss: 2188.8352 - val_mae: 2189.3352\n",
      "Epoch 43/500\n",
      "3/3 [==============================] - 0s 29ms/step - loss: 498.9450 - mae: 499.4450 - val_loss: 2172.0068 - val_mae: 2172.5068\n",
      "Epoch 44/500\n",
      "3/3 [==============================] - 0s 31ms/step - loss: 483.1501 - mae: 483.6501 - val_loss: 2155.2559 - val_mae: 2155.7559\n",
      "Epoch 45/500\n",
      "3/3 [==============================] - 0s 30ms/step - loss: 467.4123 - mae: 467.9123 - val_loss: 2138.5784 - val_mae: 2139.0784\n",
      "Epoch 46/500\n",
      "3/3 [==============================] - 0s 29ms/step - loss: 451.7284 - mae: 452.2284 - val_loss: 2121.9705 - val_mae: 2122.4705\n",
      "Epoch 47/500\n",
      "3/3 [==============================] - 0s 29ms/step - loss: 436.0959 - mae: 436.5959 - val_loss: 2105.4290 - val_mae: 2105.9290\n",
      "Epoch 48/500\n",
      "3/3 [==============================] - 0s 30ms/step - loss: 420.5120 - mae: 421.0121 - val_loss: 2088.9495 - val_mae: 2089.4495\n",
      "Epoch 49/500\n",
      "3/3 [==============================] - 0s 30ms/step - loss: 404.9739 - mae: 405.4740 - val_loss: 2072.5286 - val_mae: 2073.0286\n",
      "Epoch 50/500\n",
      "3/3 [==============================] - 0s 31ms/step - loss: 389.4792 - mae: 389.9792 - val_loss: 2056.1626 - val_mae: 2056.6626\n",
      "Epoch 51/500\n",
      "3/3 [==============================] - 0s 33ms/step - loss: 374.0249 - mae: 374.5249 - val_loss: 2039.8489 - val_mae: 2040.3489\n",
      "Epoch 52/500\n",
      "3/3 [==============================] - 0s 31ms/step - loss: 358.6088 - mae: 359.1088 - val_loss: 2023.5834 - val_mae: 2024.0834\n",
      "Epoch 53/500\n",
      "3/3 [==============================] - 0s 33ms/step - loss: 343.2282 - mae: 343.7282 - val_loss: 2007.3633 - val_mae: 2007.8633\n",
      "Epoch 54/500\n",
      "3/3 [==============================] - 0s 31ms/step - loss: 327.8808 - mae: 328.3808 - val_loss: 1991.1858 - val_mae: 1991.6858\n",
      "Epoch 55/500\n",
      "3/3 [==============================] - 0s 30ms/step - loss: 312.5643 - mae: 313.0643 - val_loss: 1975.0482 - val_mae: 1975.5482\n",
      "Epoch 56/500\n",
      "3/3 [==============================] - 0s 30ms/step - loss: 297.2765 - mae: 297.7765 - val_loss: 1958.9480 - val_mae: 1959.4480\n",
      "Epoch 57/500\n",
      "3/3 [==============================] - 0s 30ms/step - loss: 282.0156 - mae: 282.5156 - val_loss: 1942.8826 - val_mae: 1943.3826\n",
      "Epoch 58/500\n",
      "3/3 [==============================] - 0s 40ms/step - loss: 266.7792 - mae: 267.2792 - val_loss: 1926.8505 - val_mae: 1927.3505\n"
     ]
    },
    {
     "name": "stdout",
     "output_type": "stream",
     "text": [
      "Epoch 59/500\n",
      "3/3 [==============================] - 0s 34ms/step - loss: 251.5658 - mae: 252.0658 - val_loss: 1910.8499 - val_mae: 1911.3499\n",
      "Epoch 60/500\n",
      "3/3 [==============================] - 0s 31ms/step - loss: 236.3736 - mae: 236.8736 - val_loss: 1894.8789 - val_mae: 1895.3789\n",
      "Epoch 61/500\n",
      "3/3 [==============================] - 0s 28ms/step - loss: 221.2015 - mae: 221.7015 - val_loss: 1878.9371 - val_mae: 1879.4371\n",
      "Epoch 62/500\n",
      "3/3 [==============================] - 0s 34ms/step - loss: 206.0479 - mae: 206.5479 - val_loss: 1863.0237 - val_mae: 1863.5237\n",
      "Epoch 63/500\n",
      "3/3 [==============================] - 0s 30ms/step - loss: 190.9123 - mae: 191.4122 - val_loss: 1847.1379 - val_mae: 1847.6379\n",
      "Epoch 64/500\n",
      "3/3 [==============================] - 0s 33ms/step - loss: 179.9663 - mae: 180.4663 - val_loss: 1832.6969 - val_mae: 1833.1969\n",
      "Epoch 65/500\n",
      "3/3 [==============================] - 0s 39ms/step - loss: 173.1002 - mae: 173.6002 - val_loss: 1820.3174 - val_mae: 1820.8174\n",
      "Epoch 66/500\n",
      "3/3 [==============================] - 0s 36ms/step - loss: 169.6676 - mae: 170.1676 - val_loss: 1809.8271 - val_mae: 1810.3271\n",
      "Epoch 67/500\n",
      "3/3 [==============================] - 0s 30ms/step - loss: 166.9297 - mae: 167.3943 - val_loss: 1801.4987 - val_mae: 1801.9987\n",
      "Epoch 68/500\n",
      "3/3 [==============================] - 0s 29ms/step - loss: 167.2593 - mae: 167.7593 - val_loss: 1795.4653 - val_mae: 1795.9653\n",
      "Epoch 69/500\n",
      "3/3 [==============================] - 0s 34ms/step - loss: 167.4374 - mae: 167.9371 - val_loss: 1791.2974 - val_mae: 1791.7974\n",
      "Epoch 70/500\n",
      "3/3 [==============================] - 0s 30ms/step - loss: 168.5073 - mae: 169.0073 - val_loss: 1789.4380 - val_mae: 1789.9380\n",
      "Epoch 71/500\n",
      "3/3 [==============================] - 0s 30ms/step - loss: 169.0939 - mae: 169.5939 - val_loss: 1789.2557 - val_mae: 1789.7557\n",
      "Epoch 72/500\n",
      "3/3 [==============================] - 0s 31ms/step - loss: 169.0983 - mae: 169.5983 - val_loss: 1790.2960 - val_mae: 1790.7960\n",
      "Epoch 73/500\n",
      "3/3 [==============================] - 0s 29ms/step - loss: 168.6781 - mae: 169.1781 - val_loss: 1792.2283 - val_mae: 1792.7283\n",
      "Epoch 74/500\n",
      "3/3 [==============================] - 0s 30ms/step - loss: 167.9484 - mae: 168.4484 - val_loss: 1794.8115 - val_mae: 1795.3115\n",
      "Epoch 75/500\n",
      "3/3 [==============================] - 0s 35ms/step - loss: 167.2866 - mae: 167.7866 - val_loss: 1796.8928 - val_mae: 1797.3928\n",
      "Epoch 76/500\n",
      "3/3 [==============================] - 0s 51ms/step - loss: 167.0303 - mae: 167.5303 - val_loss: 1798.6140 - val_mae: 1799.1140\n",
      "Epoch 77/500\n",
      "3/3 [==============================] - 0s 29ms/step - loss: 166.7405 - mae: 167.2405 - val_loss: 1800.0726 - val_mae: 1800.5726\n",
      "Epoch 78/500\n",
      "3/3 [==============================] - 0s 28ms/step - loss: 166.4264 - mae: 166.9264 - val_loss: 1801.3405 - val_mae: 1801.8405\n",
      "Epoch 79/500\n",
      "3/3 [==============================] - 0s 30ms/step - loss: 166.0946 - mae: 166.5946 - val_loss: 1802.4692 - val_mae: 1802.9692\n",
      "Epoch 80/500\n",
      "3/3 [==============================] - 0s 30ms/step - loss: 165.7500 - mae: 166.2500 - val_loss: 1803.4976 - val_mae: 1803.9976\n",
      "Epoch 81/500\n",
      "3/3 [==============================] - 0s 32ms/step - loss: 165.3958 - mae: 165.8958 - val_loss: 1804.4526 - val_mae: 1804.9526\n",
      "Epoch 82/500\n",
      "3/3 [==============================] - 0s 29ms/step - loss: 165.0349 - mae: 165.5349 - val_loss: 1805.3552 - val_mae: 1805.8552\n",
      "Epoch 83/500\n",
      "3/3 [==============================] - 0s 29ms/step - loss: 164.6397 - mae: 165.1019 - val_loss: 1805.8280 - val_mae: 1806.3280\n",
      "Epoch 84/500\n",
      "3/3 [==============================] - 0s 29ms/step - loss: 164.2550 - mae: 164.6824 - val_loss: 1805.5867 - val_mae: 1806.0867\n",
      "Epoch 85/500\n",
      "3/3 [==============================] - 0s 29ms/step - loss: 163.8485 - mae: 164.3116 - val_loss: 1804.9567 - val_mae: 1805.4567\n",
      "Epoch 86/500\n",
      "3/3 [==============================] - 0s 31ms/step - loss: 163.5524 - mae: 164.0521 - val_loss: 1804.5225 - val_mae: 1805.0225\n",
      "Epoch 87/500\n",
      "3/3 [==============================] - 0s 31ms/step - loss: 163.4810 - mae: 163.9390 - val_loss: 1805.0056 - val_mae: 1805.5056\n",
      "Epoch 88/500\n",
      "3/3 [==============================] - 0s 31ms/step - loss: 163.3254 - mae: 163.7381 - val_loss: 1805.7749 - val_mae: 1806.2749\n",
      "Epoch 89/500\n",
      "3/3 [==============================] - 0s 29ms/step - loss: 163.0764 - mae: 163.5198 - val_loss: 1805.9211 - val_mae: 1806.4211\n",
      "Epoch 90/500\n",
      "3/3 [==============================] - 0s 29ms/step - loss: 162.7613 - mae: 163.1778 - val_loss: 1805.4033 - val_mae: 1805.9033\n",
      "Epoch 91/500\n",
      "3/3 [==============================] - 0s 30ms/step - loss: 162.5336 - mae: 162.9139 - val_loss: 1804.8884 - val_mae: 1805.3884\n",
      "Epoch 92/500\n",
      "3/3 [==============================] - 0s 29ms/step - loss: 162.4284 - mae: 162.8640 - val_loss: 1804.8135 - val_mae: 1805.3135\n",
      "Epoch 93/500\n",
      "3/3 [==============================] - 0s 31ms/step - loss: 162.2664 - mae: 162.6675 - val_loss: 1804.9788 - val_mae: 1805.4788\n",
      "Epoch 94/500\n",
      "3/3 [==============================] - 0s 31ms/step - loss: 162.0614 - mae: 162.4940 - val_loss: 1804.9905 - val_mae: 1805.4905\n",
      "Epoch 95/500\n",
      "3/3 [==============================] - 0s 29ms/step - loss: 161.8544 - mae: 162.3019 - val_loss: 1804.7933 - val_mae: 1805.2933\n",
      "Epoch 96/500\n",
      "3/3 [==============================] - 0s 29ms/step - loss: 161.6733 - mae: 162.1259 - val_loss: 1804.6393 - val_mae: 1805.1393\n",
      "Epoch 97/500\n",
      "3/3 [==============================] - 0s 31ms/step - loss: 161.5185 - mae: 161.9500 - val_loss: 1804.6890 - val_mae: 1805.1890\n",
      "Epoch 98/500\n",
      "3/3 [==============================] - 0s 29ms/step - loss: 161.3436 - mae: 161.7475 - val_loss: 1804.8293 - val_mae: 1805.3293\n",
      "Epoch 99/500\n",
      "3/3 [==============================] - 0s 29ms/step - loss: 161.1431 - mae: 161.5245 - val_loss: 1804.8639 - val_mae: 1805.3639\n",
      "Epoch 100/500\n",
      "3/3 [==============================] - 0s 30ms/step - loss: 160.9382 - mae: 161.3120 - val_loss: 1804.7592 - val_mae: 1805.2592\n",
      "Epoch 101/500\n",
      "3/3 [==============================] - 0s 30ms/step - loss: 160.7519 - mae: 161.1282 - val_loss: 1804.6343 - val_mae: 1805.1343\n",
      "Epoch 102/500\n",
      "3/3 [==============================] - 0s 31ms/step - loss: 160.5822 - mae: 160.9618 - val_loss: 1804.5835 - val_mae: 1805.0835\n",
      "Epoch 103/500\n",
      "3/3 [==============================] - 0s 30ms/step - loss: 160.4062 - mae: 160.7927 - val_loss: 1804.5767 - val_mae: 1805.0767\n",
      "Epoch 104/500\n",
      "3/3 [==============================] - 0s 30ms/step - loss: 160.2186 - mae: 160.6147 - val_loss: 1804.5380 - val_mae: 1805.0380\n",
      "Epoch 105/500\n",
      "3/3 [==============================] - 0s 29ms/step - loss: 160.0301 - mae: 160.4353 - val_loss: 1804.4540 - val_mae: 1804.9540\n",
      "Epoch 106/500\n",
      "3/3 [==============================] - 0s 29ms/step - loss: 159.8498 - mae: 160.2600 - val_loss: 1804.3760 - val_mae: 1804.8760\n",
      "Epoch 107/500\n",
      "3/3 [==============================] - 0s 30ms/step - loss: 159.6755 - mae: 160.0847 - val_loss: 1804.3416 - val_mae: 1804.8416\n",
      "Epoch 108/500\n",
      "3/3 [==============================] - 0s 31ms/step - loss: 159.4976 - mae: 159.9024 - val_loss: 1804.3320 - val_mae: 1804.8320\n",
      "Epoch 109/500\n",
      "3/3 [==============================] - 0s 29ms/step - loss: 159.3135 - mae: 159.7139 - val_loss: 1804.3073 - val_mae: 1804.8073\n",
      "Epoch 110/500\n",
      "3/3 [==============================] - 0s 31ms/step - loss: 159.1280 - mae: 159.5254 - val_loss: 1804.2559 - val_mae: 1804.7559\n",
      "Epoch 111/500\n",
      "3/3 [==============================] - 0s 30ms/step - loss: 158.9461 - mae: 159.3418 - val_loss: 1804.1985 - val_mae: 1804.6985\n",
      "Epoch 112/500\n",
      "3/3 [==============================] - 0s 30ms/step - loss: 158.7675 - mae: 159.1619 - val_loss: 1804.1536 - val_mae: 1804.6536\n",
      "Epoch 113/500\n",
      "3/3 [==============================] - 0s 32ms/step - loss: 158.5880 - mae: 158.9822 - val_loss: 1804.1165 - val_mae: 1804.6165\n",
      "Epoch 114/500\n",
      "3/3 [==============================] - 0s 29ms/step - loss: 158.4064 - mae: 158.8018 - val_loss: 1804.0721 - val_mae: 1804.5721\n",
      "Epoch 115/500\n",
      "3/3 [==============================] - 0s 30ms/step - loss: 158.2245 - mae: 158.6219 - val_loss: 1804.0171 - val_mae: 1804.5171\n",
      "Epoch 116/500\n",
      "3/3 [==============================] - 0s 28ms/step - loss: 158.0446 - mae: 158.4436 - val_loss: 1803.9618 - val_mae: 1804.4618\n"
     ]
    },
    {
     "name": "stdout",
     "output_type": "stream",
     "text": [
      "Epoch 117/500\n",
      "3/3 [==============================] - 0s 29ms/step - loss: 157.8661 - mae: 158.2658 - val_loss: 1803.9148 - val_mae: 1804.4148\n",
      "Epoch 118/500\n",
      "3/3 [==============================] - 0s 29ms/step - loss: 157.6873 - mae: 158.0867 - val_loss: 1803.8735 - val_mae: 1804.3735\n",
      "Epoch 119/500\n",
      "3/3 [==============================] - 0s 29ms/step - loss: 157.5074 - mae: 157.9063 - val_loss: 1803.8303 - val_mae: 1804.3303\n",
      "Epoch 120/500\n",
      "3/3 [==============================] - 0s 31ms/step - loss: 157.3273 - mae: 157.7257 - val_loss: 1803.7819 - val_mae: 1804.2819\n",
      "Epoch 121/500\n",
      "3/3 [==============================] - 0s 30ms/step - loss: 157.1480 - mae: 157.5458 - val_loss: 1803.7324 - val_mae: 1804.2324\n"
     ]
    },
    {
     "data": {
      "text/plain": [
       "<tensorflow.python.keras.callbacks.History at 0x1b33d4c6eb8>"
      ]
     },
     "execution_count": 23,
     "metadata": {},
     "output_type": "execute_result"
    }
   ],
   "source": [
    "# Create the model \n",
    "keras.backend.clear_session()\n",
    "tf.random.set_seed(42)\n",
    "np.random.seed(42)\n",
    "\n",
    "window_size = 2\n",
    "train_set = sequential_window_dataset(x_train, window_size)\n",
    "valid_set = sequential_window_dataset(x_valid, window_size)\n",
    "\n",
    "model = keras.models.Sequential([\n",
    "  keras.layers.SimpleRNN(100, return_sequences=True, stateful=True,\n",
    "                         batch_input_shape=[1, None, 1]),\n",
    "  keras.layers.SimpleRNN(100, return_sequences=True, stateful=True),\n",
    "  keras.layers.Dense(1),\n",
    "  keras.layers.Lambda(lambda x: x * 200.0)\n",
    "])\n",
    "optimizer = keras.optimizers.SGD(lr=1e-7, momentum=0.9)\n",
    "model.compile(loss=keras.losses.Huber(),\n",
    "              optimizer=optimizer,\n",
    "              metrics=[\"mae\"])\n",
    "reset_states = ResetStatesCallback()\n",
    "early_stopping = keras.callbacks.EarlyStopping(patience=50)\n",
    "model.fit(train_set, epochs=500,\n",
    "          validation_data=valid_set,\n",
    "          callbacks=[early_stopping, reset_states])"
   ]
  },
  {
   "cell_type": "code",
   "execution_count": 24,
   "metadata": {},
   "outputs": [],
   "source": [
    "# Forecast \n",
    "model.reset_states()\n",
    "rnn_forecast = model.predict(ts[np.newaxis, :, np.newaxis])\n",
    "rnn_forecast = rnn_forecast[0, split_time - 1:-1, 0]"
   ]
  },
  {
   "cell_type": "code",
   "execution_count": 25,
   "metadata": {},
   "outputs": [
    {
     "data": {
      "image/png": "[encoded data removed]",
      "text/plain": [
       "<Figure size 720x432 with 1 Axes>"
      ]
     },
     "metadata": {
      "needs_background": "light"
     },
     "output_type": "display_data"
    }
   ],
   "source": [
    "# Draw the prediction\n",
    "plt.figure(figsize=(10, 6))\n",
    "plot_series(time_valid, x_valid)\n",
    "plot_series(time_valid, rnn_forecast)"
   ]
  },
  {
   "cell_type": "code",
   "execution_count": 26,
   "metadata": {},
   "outputs": [
    {
     "data": {
      "text/plain": [
       "1817.7888"
      ]
     },
     "execution_count": 26,
     "metadata": {},
     "output_type": "execute_result"
    }
   ],
   "source": [
    "# Define Error\n",
    "keras.metrics.mean_absolute_error(x_valid, rnn_forecast).numpy()"
   ]
  },
  {
   "cell_type": "markdown",
   "metadata": {},
   "source": [
    "So, we see that error is too high. This model is worse than the model with 2 Dense layers"
   ]
  },
  {
   "cell_type": "markdown",
   "metadata": {},
   "source": [
    "# 6. Use the model for the prediction"
   ]
  },
  {
   "cell_type": "code",
   "execution_count": 27,
   "metadata": {},
   "outputs": [],
   "source": [
    "# Load the model \n",
    "model_f = tf.keras.models.load_model(\"2_Dense.model\")"
   ]
  },
  {
   "cell_type": "code",
   "execution_count": 28,
   "metadata": {},
   "outputs": [
    {
     "data": {
      "text/plain": [
       "4442.128"
      ]
     },
     "execution_count": 28,
     "metadata": {},
     "output_type": "execute_result"
    }
   ],
   "source": [
    "# Prediction for 2019 year\n",
    "prediction_2019 = model_forecast(model_f, ts, window_size)[:, 0][-1]\n",
    "prediction_2019"
   ]
  },
  {
   "cell_type": "code",
   "execution_count": 29,
   "metadata": {},
   "outputs": [],
   "source": [
    "# Add predicted data to the dataset\n",
    "prediction_2019 = pd.Series(prediction_2019, index=[11])\n",
    "ts = ts.append(prediction_2019)"
   ]
  },
  {
   "cell_type": "code",
   "execution_count": 30,
   "metadata": {},
   "outputs": [
    {
     "data": {
      "text/plain": [
       "5106.323"
      ]
     },
     "execution_count": 30,
     "metadata": {},
     "output_type": "execute_result"
    }
   ],
   "source": [
    "# Prediction for 2020\n",
    "prediction_2020 = model_forecast(model_f, ts, window_size)[:, 0][-1]\n",
    "prediction_2020"
   ]
  },
  {
   "cell_type": "markdown",
   "metadata": {},
   "source": [
    "# Conclusion"
   ]
  },
  {
   "cell_type": "markdown",
   "metadata": {},
   "source": [
    "According to our model, Income from selling cigarettes will be 5106 billions, it's 5.106 Trillions USD in 2020 year "
   ]
  },
  {
   "cell_type": "code",
   "execution_count": null,
   "metadata": {},
   "outputs": [],
   "source": []
  }
 ],
 "metadata": {
  "kernelspec": {
   "display_name": "Python 3",
   "language": "python",
   "name": "python3"
  },
  "language_info": {
   "codemirror_mode": {
    "name": "ipython",
    "version": 3
   },
   "file_extension": ".py",
   "mimetype": "text/x-python",
   "name": "python",
   "nbconvert_exporter": "python",
   "pygments_lexer": "ipython3",
   "version": "3.7.3"
  }
 },
 "nbformat": 4,
 "nbformat_minor": 2
}
