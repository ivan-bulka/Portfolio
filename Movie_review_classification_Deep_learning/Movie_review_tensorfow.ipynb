{
 "cells": [
  {
   "cell_type": "markdown",
   "metadata": {},
   "source": [
    "# Task description"
   ]
  },
  {
   "cell_type": "markdown",
   "metadata": {},
   "source": [
    "We have IMDB dataset. It consists of reviews to films and label is the review is good or not. Your target is creating the algorithm that allows as predict the label based on the review"
   ]
  },
  {
   "cell_type": "markdown",
   "metadata": {},
   "source": [
    "# 1. Import needed libraries and packages"
   ]
  },
  {
   "cell_type": "code",
   "execution_count": 39,
   "metadata": {},
   "outputs": [],
   "source": [
    "!pip install -q tf_nightly"
   ]
  },
  {
   "cell_type": "code",
   "execution_count": 40,
   "metadata": {},
   "outputs": [],
   "source": [
    "from __future__ import absolute_import, division, print_function, unicode_literals\n",
    "import tensorflow as tf\n",
    "from tensorflow import keras\n",
    "import numpy as np\n",
    "import warnings\n",
    "warnings.filterwarnings(\"ignore\")\n",
    "import matplotlib.pyplot as plt"
   ]
  },
  {
   "cell_type": "markdown",
   "metadata": {},
   "source": [
    "# 2. Upload the dataset. Data preparation"
   ]
  },
  {
   "cell_type": "code",
   "execution_count": 72,
   "metadata": {},
   "outputs": [],
   "source": [
    "imdb = keras.datasets.imdb\n",
    "# Use here only 10000 words that use mostly. We exclude words uses not so often\n",
    "(train_data, train_labels), (test_data, test_labels) = imdb.load_data(num_words=10000) "
   ]
  },
  {
   "cell_type": "code",
   "execution_count": 73,
   "metadata": {},
   "outputs": [
    {
     "name": "stdout",
     "output_type": "stream",
     "text": [
      "[1, 778, 128, 74, 12, 630, 163, 15, 4, 1766, 7982, 1051, 2, 32, 85, 156, 45, 40, 148, 139, 121, 664, 665, 10, 10, 1361, 173, 4, 749, 2, 16, 3804, 8, 4, 226, 65, 12, 43, 127, 24, 2, 10, 10]\n"
     ]
    }
   ],
   "source": [
    "# From the list of all records display the first one to see that the example of data\n",
    "print(train_data[5])"
   ]
  },
  {
   "cell_type": "markdown",
   "metadata": {},
   "source": [
    "Create the function to transform integers in real words"
   ]
  },
  {
   "cell_type": "code",
   "execution_count": 43,
   "metadata": {},
   "outputs": [],
   "source": [
    "\"\"\"# A dictionary mapping words to an integer index\n",
    "word_index = imdb.get_word_index()\n",
    "\n",
    "# The first indices are reserved\n",
    "word_index = {k:(v+3) for k,v in word_index.items()}\n",
    "word_index[\"<PAD>\"] = 0\n",
    "word_index[\"<START>\"] = 1\n",
    "word_index[\"<UNK>\"] = 2  # unknown\n",
    "word_index[\"<UNUSED>\"] = 3\n",
    "\n",
    "reverse_word_index = dict([(value, key) for (key, value) in word_index.items()])\n",
    "\n",
    "def decode_review(text):\n",
    "    return ' '.join([reverse_word_index.get(i, '?') for i in text])\"\"\""
   ]
  },
  {
   "cell_type": "code",
   "execution_count": 44,
   "metadata": {},
   "outputs": [
    {
     "data": {
      "text/plain": [
       "\"<START> this film was just brilliant casting location scenery story direction everyone's really suited the part they played and you could just imagine being there robert <UNK> is an amazing actor and now the same being director <UNK> father came from the same scottish island as myself so i loved the fact there was a real connection with this film the witty remarks throughout the film were great it was just brilliant so much that i bought the film as soon as it was released for <UNK> and would recommend it to everyone to watch and the fly fishing was amazing really cried at the end it was so sad and you know what they say if you cry at a film it must have been good and this definitely was also <UNK> to the two little boy's that played the <UNK> of norman and paul they were just brilliant children are often left out of the <UNK> list i think because the stars that play them all grown up are such a big profile for the whole film but these children are amazing and should be praised for what they have done don't you think the whole story was so lovely because it was true and was someone's life after all that was shared with us all\""
      ]
     },
     "execution_count": 44,
     "metadata": {},
     "output_type": "execute_result"
    }
   ],
   "source": [
    "\"\"\"# Show data for the first record\n",
    "decode_review(train_data[0])\"\"\""
   ]
  },
  {
   "cell_type": "markdown",
   "metadata": {},
   "source": [
    "We make the conclusion that data in the dataset is not words. It's numbers."
   ]
  },
  {
   "cell_type": "code",
   "execution_count": 74,
   "metadata": {},
   "outputs": [
    {
     "data": {
      "text/plain": [
       "(25000, 25000)"
      ]
     },
     "execution_count": 74,
     "metadata": {},
     "output_type": "execute_result"
    }
   ],
   "source": [
    "len(train_data), len(test_data)"
   ]
  },
  {
   "cell_type": "markdown",
   "metadata": {},
   "source": [
    "We also see that we have 25000 objects in each dataset. "
   ]
  },
  {
   "cell_type": "code",
   "execution_count": 75,
   "metadata": {},
   "outputs": [
    {
     "data": {
      "text/plain": [
       "(189, 550)"
      ]
     },
     "execution_count": 75,
     "metadata": {},
     "output_type": "execute_result"
    }
   ],
   "source": [
    "# Display length for a couple of reviews\n",
    "len(train_data[1]), len(train_data[3])"
   ]
  },
  {
   "cell_type": "markdown",
   "metadata": {},
   "source": [
    "Length of each review might be different. So, It's important when we create a matrix to train the model. \n",
    "We should transform all review to the length of the same value."
   ]
  },
  {
   "cell_type": "code",
   "execution_count": 76,
   "metadata": {},
   "outputs": [
    {
     "name": "stdout",
     "output_type": "stream",
     "text": [
      "2494\n"
     ]
    }
   ],
   "source": [
    "# Define max length for all objects in the dataset\n",
    "max_len = len(train_data[1])\n",
    "for i in train_data:\n",
    "    if len(train_data[i])>=max_len:\n",
    "        max_len=len(train_data[i])\n",
    "print(max_len)"
   ]
  },
  {
   "cell_type": "code",
   "execution_count": 77,
   "metadata": {},
   "outputs": [],
   "source": [
    "train_data = keras.preprocessing.sequence.pad_sequences(train_data,\n",
    "                                                        value=word_index[\"<PAD>\"],\n",
    "                                                        padding='post',\n",
    "                                                        maxlen=2494)\n",
    "\n",
    "test_data = keras.preprocessing.sequence.pad_sequences(test_data,\n",
    "                                                       value=word_index[\"<PAD>\"],\n",
    "                                                       padding='post',\n",
    "                                                       maxlen=2494)"
   ]
  },
  {
   "cell_type": "markdown",
   "metadata": {},
   "source": [
    "# 3. Build the model"
   ]
  },
  {
   "cell_type": "code",
   "execution_count": 49,
   "metadata": {},
   "outputs": [
    {
     "name": "stdout",
     "output_type": "stream",
     "text": [
      "Model: \"sequential_1\"\n",
      "_________________________________________________________________\n",
      "Layer (type)                 Output Shape              Param #   \n",
      "=================================================================\n",
      "embedding_1 (Embedding)      (None, None, 16)          160000    \n",
      "_________________________________________________________________\n",
      "global_average_pooling1d_1 ( (None, 16)                0         \n",
      "_________________________________________________________________\n",
      "dense_2 (Dense)              (None, 16)                272       \n",
      "_________________________________________________________________\n",
      "dense_3 (Dense)              (None, 1)                 17        \n",
      "=================================================================\n",
      "Total params: 160,289\n",
      "Trainable params: 160,289\n",
      "Non-trainable params: 0\n",
      "_________________________________________________________________\n"
     ]
    }
   ],
   "source": [
    "# Input shape is the vocabulary count used for the movie reviews (10,000 words)\n",
    "vocab_size = 10000\n",
    "model = keras.Sequential()\n",
    "# Embedding layer converts testing data in multi-dimensional space (words with somilar sentiment will \n",
    "# have the similar direction)\n",
    "model.add(keras.layers.Embedding(vocab_size, 16))\n",
    "# GlobalAveragePooling1D returns a fixed-length output vector for each example by averaging \n",
    "# over the sequence dimension. This allows the model to handle input of variable length, in the simplest way possible.\n",
    "model.add(keras.layers.GlobalAveragePooling1D())\n",
    "# Usual Dense layer \n",
    "model.add(keras.layers.Dense(16, activation=tf.nn.relu))\n",
    "# Dense layer with sigmoid activation function to predict the probability\n",
    "model.add(keras.layers.Dense(1, activation=tf.nn.sigmoid))\n",
    "model.summary()"
   ]
  },
  {
   "cell_type": "code",
   "execution_count": 50,
   "metadata": {},
   "outputs": [],
   "source": [
    "# Compile the model using binary_crossentropy as the loss function and accuracy as metric\n",
    "model.compile(optimizer='adam',\n",
    "              loss='binary_crossentropy',\n",
    "              metrics=['acc'])"
   ]
  },
  {
   "cell_type": "markdown",
   "metadata": {},
   "source": [
    "# 4. Train the model"
   ]
  },
  {
   "cell_type": "code",
   "execution_count": 51,
   "metadata": {},
   "outputs": [],
   "source": [
    "# Create test and validation datasets from train dataset\n",
    "x_val = train_data[:5000]\n",
    "partial_x_train = train_data[5000:]\n",
    "\n",
    "y_val = train_labels[:5000]\n",
    "partial_y_train = train_labels[5000:]"
   ]
  },
  {
   "cell_type": "code",
   "execution_count": 52,
   "metadata": {},
   "outputs": [
    {
     "name": "stdout",
     "output_type": "stream",
     "text": [
      "Train on 20000 samples, validate on 5000 samples\n",
      "Epoch 1/50\n",
      "20000/20000 [==============================] - 14s 684us/sample - loss: 0.6930 - acc: 0.5107 - val_loss: 0.6929 - val_acc: 0.4930\n",
      "Epoch 2/50\n",
      "20000/20000 [==============================] - 13s 664us/sample - loss: 0.6926 - acc: 0.5188 - val_loss: 0.6924 - val_acc: 0.5014\n",
      "Epoch 3/50\n",
      "20000/20000 [==============================] - 14s 694us/sample - loss: 0.6916 - acc: 0.5467 - val_loss: 0.6909 - val_acc: 0.6158\n",
      "Epoch 4/50\n",
      "20000/20000 [==============================] - 12s 602us/sample - loss: 0.6895 - acc: 0.6126 - val_loss: 0.6877 - val_acc: 0.6808\n",
      "Epoch 5/50\n",
      "20000/20000 [==============================] - 12s 605us/sample - loss: 0.6854 - acc: 0.6151 - val_loss: 0.6832 - val_acc: 0.6054\n",
      "Epoch 6/50\n",
      "20000/20000 [==============================] - 11s 565us/sample - loss: 0.6784 - acc: 0.6774 - val_loss: 0.6749 - val_acc: 0.6284\n",
      "Epoch 7/50\n",
      "20000/20000 [==============================] - 12s 576us/sample - loss: 0.6672 - acc: 0.6809 - val_loss: 0.6618 - val_acc: 0.6730\n",
      "Epoch 8/50\n",
      "20000/20000 [==============================] - 12s 579us/sample - loss: 0.6516 - acc: 0.7110 - val_loss: 0.6451 - val_acc: 0.7270\n",
      "Epoch 9/50\n",
      "20000/20000 [==============================] - 12s 611us/sample - loss: 0.6320 - acc: 0.7516 - val_loss: 0.6250 - val_acc: 0.7490\n",
      "Epoch 10/50\n",
      "20000/20000 [==============================] - 13s 638us/sample - loss: 0.6105 - acc: 0.7460 - val_loss: 0.6026 - val_acc: 0.7670\n",
      "Epoch 11/50\n",
      "20000/20000 [==============================] - 13s 625us/sample - loss: 0.5842 - acc: 0.7811 - val_loss: 0.5784 - val_acc: 0.7798\n",
      "Epoch 12/50\n",
      "20000/20000 [==============================] - 11s 559us/sample - loss: 0.5582 - acc: 0.7914 - val_loss: 0.5543 - val_acc: 0.7918\n",
      "Epoch 13/50\n",
      "20000/20000 [==============================] - 17s 846us/sample - loss: 0.5317 - acc: 0.8086 - val_loss: 0.5306 - val_acc: 0.7956\n",
      "Epoch 14/50\n",
      "20000/20000 [==============================] - 15s 727us/sample - loss: 0.5056 - acc: 0.8231 - val_loss: 0.5068 - val_acc: 0.8120\n",
      "Epoch 15/50\n",
      "20000/20000 [==============================] - 13s 658us/sample - loss: 0.4805 - acc: 0.8364 - val_loss: 0.4885 - val_acc: 0.7986\n",
      "Epoch 16/50\n",
      "20000/20000 [==============================] - 12s 614us/sample - loss: 0.4573 - acc: 0.8425 - val_loss: 0.4642 - val_acc: 0.8264\n",
      "Epoch 17/50\n",
      "20000/20000 [==============================] - 13s 643us/sample - loss: 0.4346 - acc: 0.8546 - val_loss: 0.4505 - val_acc: 0.8322\n",
      "Epoch 18/50\n",
      "20000/20000 [==============================] - 14s 705us/sample - loss: 0.4157 - acc: 0.8589 - val_loss: 0.4331 - val_acc: 0.8386\n",
      "Epoch 19/50\n",
      "20000/20000 [==============================] - 12s 591us/sample - loss: 0.3969 - acc: 0.8658 - val_loss: 0.4152 - val_acc: 0.8416\n",
      "Epoch 20/50\n",
      "20000/20000 [==============================] - 12s 623us/sample - loss: 0.3804 - acc: 0.8705 - val_loss: 0.4005 - val_acc: 0.8480\n",
      "Epoch 21/50\n",
      "20000/20000 [==============================] - 12s 595us/sample - loss: 0.3645 - acc: 0.8778 - val_loss: 0.3866 - val_acc: 0.8580\n",
      "Epoch 22/50\n",
      "20000/20000 [==============================] - 12s 582us/sample - loss: 0.3506 - acc: 0.8821 - val_loss: 0.3754 - val_acc: 0.8594\n",
      "Epoch 23/50\n",
      "20000/20000 [==============================] - 11s 569us/sample - loss: 0.3395 - acc: 0.8834 - val_loss: 0.3712 - val_acc: 0.8622\n",
      "Epoch 24/50\n",
      "20000/20000 [==============================] - 13s 654us/sample - loss: 0.3286 - acc: 0.8859 - val_loss: 0.3595 - val_acc: 0.8664\n",
      "Epoch 25/50\n",
      "20000/20000 [==============================] - 12s 618us/sample - loss: 0.3167 - acc: 0.8918 - val_loss: 0.3516 - val_acc: 0.8684\n",
      "Epoch 26/50\n",
      "20000/20000 [==============================] - 12s 609us/sample - loss: 0.3083 - acc: 0.8931 - val_loss: 0.3441 - val_acc: 0.8698\n",
      "Epoch 27/50\n",
      "20000/20000 [==============================] - 15s 743us/sample - loss: 0.2987 - acc: 0.8962 - val_loss: 0.3386 - val_acc: 0.8688\n",
      "Epoch 28/50\n",
      "20000/20000 [==============================] - 12s 596us/sample - loss: 0.2927 - acc: 0.8974 - val_loss: 0.3314 - val_acc: 0.8772\n",
      "Epoch 29/50\n",
      "20000/20000 [==============================] - 14s 685us/sample - loss: 0.2837 - acc: 0.9013 - val_loss: 0.3329 - val_acc: 0.8668\n",
      "Epoch 30/50\n",
      "20000/20000 [==============================] - 13s 641us/sample - loss: 0.2774 - acc: 0.9025 - val_loss: 0.3241 - val_acc: 0.8776\n",
      "Epoch 31/50\n",
      "20000/20000 [==============================] - 14s 706us/sample - loss: 0.2696 - acc: 0.9064 - val_loss: 0.3182 - val_acc: 0.8784\n",
      "Epoch 32/50\n",
      "20000/20000 [==============================] - 12s 624us/sample - loss: 0.2634 - acc: 0.9086 - val_loss: 0.3146 - val_acc: 0.8824\n",
      "Epoch 33/50\n",
      "20000/20000 [==============================] - 12s 597us/sample - loss: 0.2575 - acc: 0.9108 - val_loss: 0.3109 - val_acc: 0.8832\n",
      "Epoch 34/50\n",
      "20000/20000 [==============================] - 18s 915us/sample - loss: 0.2519 - acc: 0.9128 - val_loss: 0.3091 - val_acc: 0.8786\n",
      "Epoch 35/50\n",
      "20000/20000 [==============================] - 14s 704us/sample - loss: 0.2468 - acc: 0.9134 - val_loss: 0.3062 - val_acc: 0.8796\n",
      "Epoch 36/50\n",
      "20000/20000 [==============================] - 11s 565us/sample - loss: 0.2416 - acc: 0.9155 - val_loss: 0.3041 - val_acc: 0.8870\n",
      "Epoch 37/50\n",
      "20000/20000 [==============================] - 11s 556us/sample - loss: 0.2390 - acc: 0.9150 - val_loss: 0.3000 - val_acc: 0.8868\n",
      "Epoch 38/50\n",
      "20000/20000 [==============================] - 11s 562us/sample - loss: 0.2333 - acc: 0.9179 - val_loss: 0.2987 - val_acc: 0.8830\n",
      "Epoch 39/50\n",
      "20000/20000 [==============================] - 13s 642us/sample - loss: 0.2302 - acc: 0.9194 - val_loss: 0.2966 - val_acc: 0.8894\n",
      "Epoch 40/50\n",
      "20000/20000 [==============================] - 11s 569us/sample - loss: 0.2245 - acc: 0.9215 - val_loss: 0.2962 - val_acc: 0.8886\n",
      "Epoch 41/50\n",
      "20000/20000 [==============================] - 11s 575us/sample - loss: 0.2199 - acc: 0.9241 - val_loss: 0.2958 - val_acc: 0.8832\n",
      "Epoch 42/50\n",
      "20000/20000 [==============================] - 11s 560us/sample - loss: 0.2174 - acc: 0.9249 - val_loss: 0.2925 - val_acc: 0.8904\n",
      "Epoch 43/50\n",
      "20000/20000 [==============================] - 12s 591us/sample - loss: 0.2119 - acc: 0.9261 - val_loss: 0.2957 - val_acc: 0.8830\n",
      "Epoch 44/50\n",
      "20000/20000 [==============================] - 13s 660us/sample - loss: 0.2097 - acc: 0.9261 - val_loss: 0.2915 - val_acc: 0.8886\n",
      "Epoch 45/50\n",
      "20000/20000 [==============================] - 13s 634us/sample - loss: 0.2073 - acc: 0.9261 - val_loss: 0.2872 - val_acc: 0.8892\n",
      "Epoch 46/50\n",
      "20000/20000 [==============================] - 12s 607us/sample - loss: 0.2022 - acc: 0.9284 - val_loss: 0.2930 - val_acc: 0.8840\n",
      "Epoch 47/50\n",
      "20000/20000 [==============================] - 12s 583us/sample - loss: 0.1993 - acc: 0.9306 - val_loss: 0.2972 - val_acc: 0.8856\n",
      "Epoch 48/50\n",
      "20000/20000 [==============================] - 12s 601us/sample - loss: 0.1964 - acc: 0.9312 - val_loss: 0.2865 - val_acc: 0.8876\n",
      "Epoch 49/50\n",
      "20000/20000 [==============================] - 11s 569us/sample - loss: 0.1927 - acc: 0.9329 - val_loss: 0.2881 - val_acc: 0.8888\n",
      "Epoch 50/50\n",
      "20000/20000 [==============================] - 12s 609us/sample - loss: 0.1900 - acc: 0.9338 - val_loss: 0.2887 - val_acc: 0.8896\n"
     ]
    }
   ],
   "source": [
    "# Train the model\n",
    "history = model.fit(partial_x_train,\n",
    "                    partial_y_train,\n",
    "                    epochs=50,\n",
    "                    batch_size=512,\n",
    "                    validation_data=(x_val, y_val),\n",
    "                    verbose=1)"
   ]
  },
  {
   "cell_type": "markdown",
   "metadata": {},
   "source": [
    "We see that starting from 35 epochs, accuracy do not change a lot. Probably, 35 epochs are a good amount of epochs for us."
   ]
  },
  {
   "cell_type": "markdown",
   "metadata": {},
   "source": [
    "# 5. Estimate model results"
   ]
  },
  {
   "cell_type": "markdown",
   "metadata": {},
   "source": [
    "We can draw charts for accuracy and loss for train and validation datasets"
   ]
  },
  {
   "cell_type": "code",
   "execution_count": 65,
   "metadata": {},
   "outputs": [
    {
     "data": {
      "text/plain": [
       "dict_keys(['loss', 'acc', 'val_loss', 'val_acc'])"
      ]
     },
     "execution_count": 65,
     "metadata": {},
     "output_type": "execute_result"
    }
   ],
   "source": [
    "# Make some preparation before display data\n",
    "history_dict = history.history\n",
    "history_dict.keys()"
   ]
  },
  {
   "cell_type": "code",
   "execution_count": 66,
   "metadata": {},
   "outputs": [],
   "source": [
    "acc = history_dict['acc']\n",
    "val_acc = history_dict['val_acc']\n",
    "loss = history_dict['loss']\n",
    "val_loss = history_dict['val_loss']"
   ]
  },
  {
   "cell_type": "code",
   "execution_count": 67,
   "metadata": {},
   "outputs": [],
   "source": [
    "epochs = range(1,51)"
   ]
  },
  {
   "cell_type": "code",
   "execution_count": 68,
   "metadata": {},
   "outputs": [
    {
     "data": {
      "image/png": "[encoded data removed]",
      "text/plain": [
       "<Figure size 432x288 with 1 Axes>"
      ]
     },
     "metadata": {
      "needs_background": "light"
     },
     "output_type": "display_data"
    }
   ],
   "source": [
    "# Accuracy\n",
    "plt.plot(epochs, acc, color = 'red', label='Training loss')\n",
    "plt.plot(epochs, val_acc, color = 'blue', label='Training loss')\n",
    "plt.xlabel('Epochs')\n",
    "plt.ylabel('Accuracy')\n",
    "plt.title('Training and validation accuracy')\n",
    "plt.show()"
   ]
  },
  {
   "cell_type": "code",
   "execution_count": 69,
   "metadata": {},
   "outputs": [
    {
     "data": {
      "image/png": "[encoded data removed]",
      "text/plain": [
       "<Figure size 432x288 with 1 Axes>"
      ]
     },
     "metadata": {
      "needs_background": "light"
     },
     "output_type": "display_data"
    }
   ],
   "source": [
    "# Loss\n",
    "plt.plot(epochs, loss, color = 'red', label='Training loss')\n",
    "plt.plot(epochs, val_loss, color = 'blue', label='Training loss')\n",
    "plt.xlabel('Epochs')\n",
    "plt.ylabel('Loss')\n",
    "plt.title('Training and validation loss')\n",
    "plt.show()"
   ]
  },
  {
   "cell_type": "markdown",
   "metadata": {},
   "source": [
    "# Conclusion"
   ]
  },
  {
   "cell_type": "markdown",
   "metadata": {},
   "source": [
    "The model shows near 88% accuracy on validation dataset and 93% on train dataset. This result is not bad and the model can be used for label prediction based on review text. "
   ]
  },
  {
   "cell_type": "code",
   "execution_count": null,
   "metadata": {},
   "outputs": [],
   "source": []
  }
 ],
 "metadata": {
  "kernelspec": {
   "display_name": "Python 3",
   "language": "python",
   "name": "python3"
  },
  "language_info": {
   "codemirror_mode": {
    "name": "ipython",
    "version": 3
   },
   "file_extension": ".py",
   "mimetype": "text/x-python",
   "name": "python",
   "nbconvert_exporter": "python",
   "pygments_lexer": "ipython3",
   "version": "3.7.3"
  }
 },
 "nbformat": 4,
 "nbformat_minor": 2
}
